{
 "cells": [
  {
   "cell_type": "markdown",
   "metadata": {},
   "source": [
    "# Import and Explore Data"
   ]
  },
  {
   "cell_type": "code",
   "execution_count": 23,
   "metadata": {},
   "outputs": [
    {
     "data": {
      "application/vnd.jupyter.widget-view+json": {
       "model_id": "c915ee0d588d440e8181efa3f0357282",
       "version_major": 2,
       "version_minor": 0
      },
      "text/plain": [
       "VBox()"
      ]
     },
     "metadata": {},
     "output_type": "display_data"
    },
    {
     "data": {
      "application/vnd.jupyter.widget-view+json": {
       "model_id": "",
       "version_major": 2,
       "version_minor": 0
      },
      "text/plain": [
       "FloatProgress(value=0.0, bar_style='info', description='Progress:', layout=Layout(height='25px', width='50%'),…"
      ]
     },
     "metadata": {},
     "output_type": "display_data"
    }
   ],
   "source": [
    "path = \"s3://ms-syntheamass-1m-mldata/syntheamassCSV/covid/10k_synthea_covid19_csv/\"\n",
    "bucket_file = \"indexed_data_2.csv\"\n",
    "\n",
    "indexed = spark.read.format(\"csv\").option(\"inferSchema\", True)\\\n",
    ".option(\"header\", True).load(path + bucket_file)"
   ]
  },
  {
   "cell_type": "code",
   "execution_count": 24,
   "metadata": {},
   "outputs": [
    {
     "data": {
      "application/vnd.jupyter.widget-view+json": {
       "model_id": "e2fe3fdcfc364a339fb83f5992b34409",
       "version_major": 2,
       "version_minor": 0
      },
      "text/plain": [
       "VBox()"
      ]
     },
     "metadata": {},
     "output_type": "display_data"
    },
    {
     "data": {
      "application/vnd.jupyter.widget-view+json": {
       "model_id": "",
       "version_major": 2,
       "version_minor": 0
      },
      "text/plain": [
       "FloatProgress(value=0.0, bar_style='info', description='Progress:', layout=Layout(height='25px', width='50%'),…"
      ]
     },
     "metadata": {},
     "output_type": "display_data"
    }
   ],
   "source": [
    "# cols = indexed.columns\n",
    "# cols.remove(\"D_dimer\")\n",
    "# cols.remove(\"Serum_Ferritin\")\n",
    "# cols.remove(\"High_Sensitivity_Cardiac_Troponin_I\")\n",
    "# cols.remove(\"IL_6\")\n",
    "# cols.remove(\"Lymphocytes\")\n",
    "# cols.remove(\"Lactate_dehydrogenase\")\n",
    "# # cols.remove(\"AGE\")\n",
    "# cols.remove(\"icu_admitted_index\")\n",
    "\n",
    "# indexed = indexed.select(cols)\n",
    "# indexed.columns\n",
    "# indexed = indexed.select(\"Id\", \"BMI\", \"AGE\", \"DECEASED_index\")\n",
    "indexed = indexed.where(\"AGE <= 50\")"
   ]
  },
  {
   "cell_type": "code",
   "execution_count": 25,
   "metadata": {},
   "outputs": [
    {
     "data": {
      "application/vnd.jupyter.widget-view+json": {
       "model_id": "7e7ad667b3f94787b6faed0c3aaa6a7f",
       "version_major": 2,
       "version_minor": 0
      },
      "text/plain": [
       "VBox()"
      ]
     },
     "metadata": {},
     "output_type": "display_data"
    },
    {
     "data": {
      "application/vnd.jupyter.widget-view+json": {
       "model_id": "",
       "version_major": 2,
       "version_minor": 0
      },
      "text/plain": [
       "FloatProgress(value=0.0, bar_style='info', description='Progress:', layout=Layout(height='25px', width='50%'),…"
      ]
     },
     "metadata": {},
     "output_type": "display_data"
    },
    {
     "name": "stdout",
     "output_type": "stream",
     "text": [
      "5440"
     ]
    }
   ],
   "source": [
    "indexed.count()"
   ]
  },
  {
   "cell_type": "code",
   "execution_count": 26,
   "metadata": {
    "scrolled": true
   },
   "outputs": [
    {
     "data": {
      "application/vnd.jupyter.widget-view+json": {
       "model_id": "2820387a65b84632858952a73dbc2255",
       "version_major": 2,
       "version_minor": 0
      },
      "text/plain": [
       "VBox()"
      ]
     },
     "metadata": {},
     "output_type": "display_data"
    },
    {
     "data": {
      "application/vnd.jupyter.widget-view+json": {
       "model_id": "",
       "version_major": 2,
       "version_minor": 0
      },
      "text/plain": [
       "FloatProgress(value=0.0, bar_style='info', description='Progress:', layout=Layout(height='25px', width='50%'),…"
      ]
     },
     "metadata": {},
     "output_type": "display_data"
    },
    {
     "name": "stdout",
     "output_type": "stream",
     "text": [
      "+--------------------+---------+-----------+---------+--------------+-----------------------------------+----+-----------+---------------------+-------------------+-------------------+----------+---------------+------------+--------------+------------------+----+\n",
      "|                  Id|      BMI|Cholesterol|  D_dimer|Serum_Ferritin|High_Sensitivity_Cardiac_Troponin_I|IL_6|Lymphocytes|Lactate_dehydrogenase|HEALTHCARE_EXPENSES|HEALTHCARE_COVERAGE|RACE_index|ETHNICITY_index|GENDER_index|DECEASED_index|icu_admitted_index| AGE|\n",
      "+--------------------+---------+-----------+---------+--------------+-----------------------------------+----+-----------+---------------------+-------------------+-------------------+----------+---------------+------------+--------------+------------------+----+\n",
      "|00ebc091-9748-42c...|25.989397|  183.77635|      0.0|         498.0|                                3.0| 6.0|        0.0|                244.0|             6236.4|                0.0|       1.0|            0.0|         1.0|           0.0|               0.0|45.0|\n",
      "|01277eee-8cd9-4f7...|     27.0|      207.0|1.2153187|      626.5785|                          6.6004286| 6.0| 0.58114624|             261.5581|         1210105.37|            4700.48|       1.0|            0.0|         1.0|           0.0|               0.0|45.0|\n",
      "|01936601-631d-4f3...|     17.0|  183.77635|1.2153187|      626.5785|                          6.6004286| 6.0| 0.58114624|             261.5581| 23186.739999999998|              645.8|       0.0|            0.0|         0.0|           0.0|               0.0| 3.0|\n",
      "|023ebd7f-12e5-486...|     28.0|  183.77635|1.2153187|      626.5785|                          6.6004286| 6.0| 0.58114624|             261.5581|          913260.55|  4708.679999999999|       0.0|            0.0|         1.0|           0.0|               0.0|44.0|\n",
      "|03a0d001-96be-4da...|     23.0|  183.77635|1.2153187|      626.5785|                          6.6004286| 6.0| 0.58114624|             261.5581|          547164.47| 3606.3999999999996|       0.0|            0.0|         1.0|           0.0|               0.0|22.0|\n",
      "|03fa0ea8-f4d1-49e...|     23.0|  183.77635|1.2153187|      626.5785|                          6.6004286| 6.0| 0.58114624|             261.5581|          469354.56|            3627.16|       0.0|            0.0|         0.0|           0.0|               0.0|22.0|\n",
      "|06fe1c85-e24d-412...|     25.0|  183.77635|1.2153187|      626.5785|                          6.6004286| 6.0| 0.58114624|             261.5581|          445489.15|  6965.999999999999|       0.0|            0.0|         0.0|           0.0|               0.0|19.0|\n",
      "|06fea317-8464-4ef...|     17.0|  183.77635|1.2153187|      626.5785|                          6.6004286| 6.0| 0.58114624|             261.5581|          136150.98|            3411.14|       0.0|            0.0|         0.0|           0.0|               0.0| 6.0|\n",
      "|08223dc4-d9c0-481...|     30.0|      189.0|1.2153187|      626.5785|                          6.6004286| 6.0| 0.58114624|             261.5581|          1027987.1|            4205.48|       0.0|            1.0|         1.0|           0.0|               0.0|41.0|\n",
      "|08ddcbc1-2fe6-4b5...|25.989397|  183.77635|1.2153187|      626.5785|                          6.6004286| 6.0| 0.58114624|             261.5581|         1111764.59| 14525.659999999998|       1.0|            1.0|         0.0|           0.0|               0.0|49.0|\n",
      "|0a3dd43a-7743-48b...|     18.0|  183.77635|1.2153187|      626.5785|                          6.6004286| 6.0| 0.58114624|             261.5581|          431172.06|           16545.79|       0.0|            0.0|         0.0|           0.0|               0.0|20.0|\n",
      "|0ad328b9-9d39-433...|     30.0|      161.0|1.2153187|      626.5785|                          6.6004286| 6.0| 0.58114624|             261.5581|          866904.65| 3380.4399999999996|       0.0|            0.0|         1.0|           0.0|               0.0|42.0|\n",
      "|0bb4d615-991a-49e...|     27.0|  183.77635|1.2153187|      626.5785|                          6.6004286| 6.0| 0.58114624|             261.5581|         1275489.17|            3277.24|       0.0|            0.0|         1.0|           0.0|               0.0|48.0|\n",
      "|0caae75d-363a-4a5...|25.989397|  183.77635|1.2153187|      626.5785|                          6.6004286| 6.0| 0.58114624|             261.5581|         1021573.35|            3916.24|       0.0|            0.0|         1.0|           0.0|               0.0|47.0|\n",
      "|0e93c580-cce8-4cb...|     14.0|  183.77635|      0.0|         429.0|                                2.0| 6.0|        0.0|                237.0|           23612.35|            2481.52|       0.0|            0.0|         1.0|           0.0|               0.0| 8.0|\n",
      "|0f2fd7be-a350-4c6...|25.989397|  183.77635|1.2153187|      626.5785|                          6.6004286| 6.0| 0.58114624|             261.5581|         1143796.12|            4302.12|       0.0|            0.0|         1.0|           0.0|               0.0|45.0|\n",
      "|1077f7ed-7287-4f9...|25.989397|  183.77635|1.2153187|      626.5785|                          6.6004286| 6.0| 0.58114624|             261.5581|           675121.5| 2661.3599999999997|       0.0|            0.0|         1.0|           0.0|               0.0|33.0|\n",
      "|10a17c42-2026-42b...|     27.0|      192.0|      0.0|         446.0|                                2.0| 6.0|        1.0|                235.0|          262600.13| 10738.389999999998|       0.0|            0.0|         0.0|           0.0|               0.0|40.0|\n",
      "|10a614e8-7074-4b5...|     15.0|  183.77635|1.2153187|      626.5785|                          6.6004286| 6.0| 0.58114624|             261.5581|           17631.37|             516.64|       0.0|            0.0|         1.0|           0.0|               0.0| 6.0|\n",
      "|10dd0295-1d65-441...|25.989397|  183.77635|1.2153187|      626.5785|                          6.6004286| 6.0| 0.58114624|             261.5581|          705596.13| 6712.8099999999995|       0.0|            0.0|         0.0|           0.0|               0.0|34.0|\n",
      "+--------------------+---------+-----------+---------+--------------+-----------------------------------+----+-----------+---------------------+-------------------+-------------------+----------+---------------+------------+--------------+------------------+----+\n",
      "only showing top 20 rows"
     ]
    }
   ],
   "source": [
    "indexed.show()"
   ]
  },
  {
   "cell_type": "markdown",
   "metadata": {},
   "source": [
    "# Create Features Column\n"
   ]
  },
  {
   "cell_type": "code",
   "execution_count": 27,
   "metadata": {},
   "outputs": [
    {
     "data": {
      "application/vnd.jupyter.widget-view+json": {
       "model_id": "523797f588664744ae8ba5e35da82421",
       "version_major": 2,
       "version_minor": 0
      },
      "text/plain": [
       "VBox()"
      ]
     },
     "metadata": {},
     "output_type": "display_data"
    },
    {
     "data": {
      "application/vnd.jupyter.widget-view+json": {
       "model_id": "",
       "version_major": 2,
       "version_minor": 0
      },
      "text/plain": [
       "FloatProgress(value=0.0, bar_style='info', description='Progress:', layout=Layout(height='25px', width='50%'),…"
      ]
     },
     "metadata": {},
     "output_type": "display_data"
    }
   ],
   "source": [
    "cols = indexed.columns\n",
    "cols.remove(\"DECEASED_index\")\n",
    "cols.remove(\"Id\")\n",
    "\n",
    "from pyspark.ml.feature import VectorAssembler\n",
    "assembler = VectorAssembler(inputCols=cols, outputCol='features')\n",
    "\n",
    "indexed = assembler.transform(indexed)"
   ]
  },
  {
   "cell_type": "markdown",
   "metadata": {},
   "source": [
    "# Scale Features Column"
   ]
  },
  {
   "cell_type": "code",
   "execution_count": 28,
   "metadata": {},
   "outputs": [
    {
     "data": {
      "application/vnd.jupyter.widget-view+json": {
       "model_id": "720c720d7a4648d8acc8feca52733827",
       "version_major": 2,
       "version_minor": 0
      },
      "text/plain": [
       "VBox()"
      ]
     },
     "metadata": {},
     "output_type": "display_data"
    },
    {
     "data": {
      "application/vnd.jupyter.widget-view+json": {
       "model_id": "",
       "version_major": 2,
       "version_minor": 0
      },
      "text/plain": [
       "FloatProgress(value=0.0, bar_style='info', description='Progress:', layout=Layout(height='25px', width='50%'),…"
      ]
     },
     "metadata": {},
     "output_type": "display_data"
    }
   ],
   "source": [
    "from pyspark.ml.feature import StandardScaler\n",
    "standardscaler = StandardScaler().setInputCol(\"features\").setOutputCol(\"scaled_features\")\n",
    "\n",
    "scaled = standardscaler.fit(indexed).transform(indexed)"
   ]
  },
  {
   "cell_type": "markdown",
   "metadata": {},
   "source": [
    "# Split Data into Train and Test sets"
   ]
  },
  {
   "cell_type": "code",
   "execution_count": 29,
   "metadata": {},
   "outputs": [
    {
     "data": {
      "application/vnd.jupyter.widget-view+json": {
       "model_id": "1396507e05fc4ec9b9c6ef33e01f000c",
       "version_major": 2,
       "version_minor": 0
      },
      "text/plain": [
       "VBox()"
      ]
     },
     "metadata": {},
     "output_type": "display_data"
    },
    {
     "data": {
      "application/vnd.jupyter.widget-view+json": {
       "model_id": "",
       "version_major": 2,
       "version_minor": 0
      },
      "text/plain": [
       "FloatProgress(value=0.0, bar_style='info', description='Progress:', layout=Layout(height='25px', width='50%'),…"
      ]
     },
     "metadata": {},
     "output_type": "display_data"
    }
   ],
   "source": [
    "train, test = scaled.randomSplit([0.8, 0.2], seed=12345)"
   ]
  },
  {
   "cell_type": "code",
   "execution_count": 30,
   "metadata": {},
   "outputs": [
    {
     "data": {
      "application/vnd.jupyter.widget-view+json": {
       "model_id": "22a6edda6eb24cd88ff2a2924cf13db7",
       "version_major": 2,
       "version_minor": 0
      },
      "text/plain": [
       "VBox()"
      ]
     },
     "metadata": {},
     "output_type": "display_data"
    },
    {
     "data": {
      "application/vnd.jupyter.widget-view+json": {
       "model_id": "",
       "version_major": 2,
       "version_minor": 0
      },
      "text/plain": [
       "FloatProgress(value=0.0, bar_style='info', description='Progress:', layout=Layout(height='25px', width='50%'),…"
      ]
     },
     "metadata": {},
     "output_type": "display_data"
    },
    {
     "name": "stdout",
     "output_type": "stream",
     "text": [
      "percent deceased for total covid patients: 0.6066176470588236\n",
      "percent deceased for train: 0.6484483557202408\n",
      "percent deceased for test: 0.4456327985739751"
     ]
    }
   ],
   "source": [
    "# Analyzing distributions\n",
    "\n",
    "percent_pos_total = float(scaled.where(\"DECEASED_index == 1\").count()) \\\n",
    "/ scaled.count() * 100\n",
    "\n",
    "percent_pos_train = float(train.where(\"DECEASED_index == 1\").count()) \\\n",
    "/ train.count() * 100\n",
    "\n",
    "percent_pos_test = float(test.where(\"DECEASED_index == 1\").count()) \\\n",
    "/ test.count() * 100\n",
    "\n",
    "print(\"percent deceased for total covid patients:\", percent_pos_total)\n",
    "\n",
    "print(\"percent deceased for train:\", percent_pos_train)\n",
    "\n",
    "print(\"percent deceased for test:\", percent_pos_test)"
   ]
  },
  {
   "cell_type": "markdown",
   "metadata": {},
   "source": [
    "# Handle the imbalance between alive and deceased patients\n"
   ]
  },
  {
   "cell_type": "code",
   "execution_count": 31,
   "metadata": {},
   "outputs": [
    {
     "data": {
      "application/vnd.jupyter.widget-view+json": {
       "model_id": "70eea8c004644c3eb6d125fef4bb5b02",
       "version_major": 2,
       "version_minor": 0
      },
      "text/plain": [
       "VBox()"
      ]
     },
     "metadata": {},
     "output_type": "display_data"
    },
    {
     "data": {
      "application/vnd.jupyter.widget-view+json": {
       "model_id": "",
       "version_major": 2,
       "version_minor": 0
      },
      "text/plain": [
       "FloatProgress(value=0.0, bar_style='info', description='Progress:', layout=Layout(height='25px', width='50%'),…"
      ]
     },
     "metadata": {},
     "output_type": "display_data"
    },
    {
     "name": "stdout",
     "output_type": "stream",
     "text": [
      "Balancing ratio: 0.9935155164427976"
     ]
    }
   ],
   "source": [
    "\n",
    "num_negs = float(train.where(\"DECEASED_index == 0\").count())\n",
    "                 \n",
    "balancing_ratio = num_negs/train.count()\n",
    "\n",
    "print(\"Balancing ratio:\", balancing_ratio)"
   ]
  },
  {
   "cell_type": "code",
   "execution_count": 32,
   "metadata": {},
   "outputs": [
    {
     "data": {
      "application/vnd.jupyter.widget-view+json": {
       "model_id": "4e6b34f589c34e5c9bf79bccb5e0667e",
       "version_major": 2,
       "version_minor": 0
      },
      "text/plain": [
       "VBox()"
      ]
     },
     "metadata": {},
     "output_type": "display_data"
    },
    {
     "data": {
      "application/vnd.jupyter.widget-view+json": {
       "model_id": "",
       "version_major": 2,
       "version_minor": 0
      },
      "text/plain": [
       "FloatProgress(value=0.0, bar_style='info', description='Progress:', layout=Layout(height='25px', width='50%'),…"
      ]
     },
     "metadata": {},
     "output_type": "display_data"
    },
    {
     "name": "stdout",
     "output_type": "stream",
     "text": [
      "+--------------------+\n",
      "|       class_weights|\n",
      "+--------------------+\n",
      "|0.006484483557202436|\n",
      "|0.006484483557202436|\n",
      "|0.006484483557202436|\n",
      "|  0.9935155164427976|\n",
      "|0.006484483557202436|\n",
      "+--------------------+\n",
      "only showing top 5 rows"
     ]
    }
   ],
   "source": [
    "from pyspark.sql import functions\n",
    "\n",
    "train = train.withColumn(\"class_weights\", functions.when(train.DECEASED_index == 1, balancing_ratio)\n",
    "                        .otherwise(1 - balancing_ratio))\n",
    "train.select(\"class_weights\").show(5)"
   ]
  },
  {
   "cell_type": "markdown",
   "metadata": {},
   "source": [
    "# Feature Selection using Chi Square Selector"
   ]
  },
  {
   "cell_type": "code",
   "execution_count": 33,
   "metadata": {},
   "outputs": [
    {
     "data": {
      "application/vnd.jupyter.widget-view+json": {
       "model_id": "b9d65e91187f43ca97cf87f60691ad99",
       "version_major": 2,
       "version_minor": 0
      },
      "text/plain": [
       "VBox()"
      ]
     },
     "metadata": {},
     "output_type": "display_data"
    },
    {
     "data": {
      "application/vnd.jupyter.widget-view+json": {
       "model_id": "",
       "version_major": 2,
       "version_minor": 0
      },
      "text/plain": [
       "FloatProgress(value=0.0, bar_style='info', description='Progress:', layout=Layout(height='25px', width='50%'),…"
      ]
     },
     "metadata": {},
     "output_type": "display_data"
    },
    {
     "name": "stdout",
     "output_type": "stream",
     "text": [
      "+-------------------------------------------------------------------------------------------------------------------------------------------------------------------------------------------------------------------------------------------+\n",
      "|Aspect                                                                                                                                                                                                                                     |\n",
      "+-------------------------------------------------------------------------------------------------------------------------------------------------------------------------------------------------------------------------------------------+\n",
      "|[5.323836845202088,24.19937577609338,1.819250365755044,7.589399726115801,3.0340805024860744,167.30324573864803,3.3282844435503494,25.15907568218014,3.0594307945041854,0.46035965036473825,0.0,0.0,2.00266380830145,0.0,2.9674272899731813]|\n",
      "+-------------------------------------------------------------------------------------------------------------------------------------------------------------------------------------------------------------------------------------------+\n",
      "only showing top 1 row"
     ]
    }
   ],
   "source": [
    "from pyspark.ml.feature import ChiSqSelector\n",
    "\n",
    "css = ChiSqSelector(featuresCol='scaled_features', outputCol = 'Aspect', \n",
    "                   labelCol='DECEASED_index', fpr=0.05)\n",
    "\n",
    "train = css.fit(train).transform(train)\n",
    "\n",
    "test = css.fit(test).transform(test)\n",
    "\n",
    "test.select(\"Aspect\").show(1, truncate=False)"
   ]
  },
  {
   "cell_type": "markdown",
   "metadata": {},
   "source": [
    "# Building classification model using logistic regression"
   ]
  },
  {
   "cell_type": "code",
   "execution_count": 34,
   "metadata": {},
   "outputs": [
    {
     "data": {
      "application/vnd.jupyter.widget-view+json": {
       "model_id": "a9867db1d5874c23b1dece3e750dd30b",
       "version_major": 2,
       "version_minor": 0
      },
      "text/plain": [
       "VBox()"
      ]
     },
     "metadata": {},
     "output_type": "display_data"
    },
    {
     "data": {
      "application/vnd.jupyter.widget-view+json": {
       "model_id": "",
       "version_major": 2,
       "version_minor": 0
      },
      "text/plain": [
       "FloatProgress(value=0.0, bar_style='info', description='Progress:', layout=Layout(height='25px', width='50%'),…"
      ]
     },
     "metadata": {},
     "output_type": "display_data"
    }
   ],
   "source": [
    "from pyspark.ml.classification import LogisticRegression\n",
    "lr = LogisticRegression(labelCol=\"DECEASED_index\", \n",
    "                       featuresCol=\"Aspect\", weightCol = \"class_weights\", maxIter = 5)\n",
    "model = lr.fit(train)\n",
    "predict_train = model.transform(train)\n",
    "\n",
    "predict_test = model.transform(test)"
   ]
  },
  {
   "cell_type": "markdown",
   "metadata": {},
   "source": [
    "# Model Evaluation"
   ]
  },
  {
   "cell_type": "code",
   "execution_count": 35,
   "metadata": {},
   "outputs": [
    {
     "data": {
      "application/vnd.jupyter.widget-view+json": {
       "model_id": "b6441fa877964df9bf07b0684c811948",
       "version_major": 2,
       "version_minor": 0
      },
      "text/plain": [
       "VBox()"
      ]
     },
     "metadata": {},
     "output_type": "display_data"
    },
    {
     "data": {
      "application/vnd.jupyter.widget-view+json": {
       "model_id": "",
       "version_major": 2,
       "version_minor": 0
      },
      "text/plain": [
       "FloatProgress(value=0.0, bar_style='info', description='Progress:', layout=Layout(height='25px', width='50%'),…"
      ]
     },
     "metadata": {},
     "output_type": "display_data"
    },
    {
     "name": "stdout",
     "output_type": "stream",
     "text": [
      "+--------------+--------------------+----------+--------------------+\n",
      "|DECEASED_index|       rawPrediction|prediction|         probability|\n",
      "+--------------+--------------------+----------+--------------------+\n",
      "|           0.0|[1.96355521897219...|       0.0|[0.87691719389683...|\n",
      "|           0.0|[3.15953545439111...|       0.0|[0.95928280547093...|\n",
      "|           0.0|[3.62826288184007...|       0.0|[0.97412501263454...|\n",
      "|           0.0|[3.99618387222461...|       0.0|[0.98194626276465...|\n",
      "|           0.0|[5.24016706432456...|       0.0|[0.99472856387198...|\n",
      "+--------------+--------------------+----------+--------------------+\n",
      "only showing top 5 rows\n",
      "\n",
      "The area under ROC for train set is: 0.9993839493839494\n",
      "The area under ROC for test set is: 0.9998209489704566"
     ]
    }
   ],
   "source": [
    "from pyspark.ml.evaluation import BinaryClassificationEvaluator \n",
    "evaluator = BinaryClassificationEvaluator(rawPredictionCol=\"rawPrediction\", labelCol=\"DECEASED_index\")\n",
    "\n",
    "predict_test.select(\"DECEASED_index\", \"rawPrediction\", \"prediction\", \"probability\").show(5)\n",
    "\n",
    "print(\"The area under ROC for train set is:\", evaluator.evaluate(predict_train))\n",
    "print(\"The area under ROC for test set is:\", evaluator.evaluate(predict_test))"
   ]
  },
  {
   "cell_type": "code",
   "execution_count": 36,
   "metadata": {},
   "outputs": [
    {
     "data": {
      "application/vnd.jupyter.widget-view+json": {
       "model_id": "3ef2193acde1406892fa60ca48a42114",
       "version_major": 2,
       "version_minor": 0
      },
      "text/plain": [
       "VBox()"
      ]
     },
     "metadata": {},
     "output_type": "display_data"
    },
    {
     "data": {
      "application/vnd.jupyter.widget-view+json": {
       "model_id": "",
       "version_major": 2,
       "version_minor": 0
      },
      "text/plain": [
       "FloatProgress(value=0.0, bar_style='info', description='Progress:', layout=Layout(height='25px', width='50%'),…"
      ]
     },
     "metadata": {},
     "output_type": "display_data"
    },
    {
     "name": "stderr",
     "output_type": "stream",
     "text": [
      "Package already installed for current Spark context!\n",
      "Traceback (most recent call last):\n",
      "  File \"/usr/lib/spark/python/lib/pyspark.zip/pyspark/context.py\", line 1110, in install_pypi_package\n",
      "    raise ValueError(\"Package already installed for current Spark context!\")\n",
      "ValueError: Package already installed for current Spark context!\n",
      "\n"
     ]
    }
   ],
   "source": [
    "sc.install_pypi_package(\"matplotlib\")"
   ]
  },
  {
   "cell_type": "code",
   "execution_count": 37,
   "metadata": {},
   "outputs": [
    {
     "data": {
      "application/vnd.jupyter.widget-view+json": {
       "model_id": "afedb728f180471e8c73ece59dfe05ed",
       "version_major": 2,
       "version_minor": 0
      },
      "text/plain": [
       "VBox()"
      ]
     },
     "metadata": {},
     "output_type": "display_data"
    },
    {
     "data": {
      "application/vnd.jupyter.widget-view+json": {
       "model_id": "",
       "version_major": 2,
       "version_minor": 0
      },
      "text/plain": [
       "FloatProgress(value=0.0, bar_style='info', description='Progress:', layout=Layout(height='25px', width='50%'),…"
      ]
     },
     "metadata": {},
     "output_type": "display_data"
    },
    {
     "name": "stderr",
     "output_type": "stream",
     "text": [
      "Package already installed for current Spark context!\n",
      "Traceback (most recent call last):\n",
      "  File \"/usr/lib/spark/python/lib/pyspark.zip/pyspark/context.py\", line 1110, in install_pypi_package\n",
      "    raise ValueError(\"Package already installed for current Spark context!\")\n",
      "ValueError: Package already installed for current Spark context!\n",
      "\n"
     ]
    }
   ],
   "source": [
    "sc.install_pypi_package(\"pandas\")"
   ]
  },
  {
   "cell_type": "code",
   "execution_count": 38,
   "metadata": {},
   "outputs": [
    {
     "data": {
      "application/vnd.jupyter.widget-view+json": {
       "model_id": "67058a7dcd7b42e9b037c61bfc4ab1f7",
       "version_major": 2,
       "version_minor": 0
      },
      "text/plain": [
       "VBox()"
      ]
     },
     "metadata": {},
     "output_type": "display_data"
    },
    {
     "data": {
      "application/vnd.jupyter.widget-view+json": {
       "model_id": "",
       "version_major": 2,
       "version_minor": 0
      },
      "text/plain": [
       "FloatProgress(value=0.0, bar_style='info', description='Progress:', layout=Layout(height='25px', width='50%'),…"
      ]
     },
     "metadata": {},
     "output_type": "display_data"
    },
    {
     "name": "stderr",
     "output_type": "stream",
     "text": [
      "Package already installed for current Spark context!\n",
      "Traceback (most recent call last):\n",
      "  File \"/usr/lib/spark/python/lib/pyspark.zip/pyspark/context.py\", line 1110, in install_pypi_package\n",
      "    raise ValueError(\"Package already installed for current Spark context!\")\n",
      "ValueError: Package already installed for current Spark context!\n",
      "\n"
     ]
    }
   ],
   "source": [
    "sc.install_pypi_package(\"handyspark\")"
   ]
  },
  {
   "cell_type": "markdown",
   "metadata": {},
   "source": [
    "# Thresholds and Metrics"
   ]
  },
  {
   "cell_type": "code",
   "execution_count": 39,
   "metadata": {},
   "outputs": [
    {
     "data": {
      "application/vnd.jupyter.widget-view+json": {
       "model_id": "e41a5b0a295c48699dc6af11e14ebf13",
       "version_major": 2,
       "version_minor": 0
      },
      "text/plain": [
       "VBox()"
      ]
     },
     "metadata": {},
     "output_type": "display_data"
    },
    {
     "data": {
      "application/vnd.jupyter.widget-view+json": {
       "model_id": "",
       "version_major": 2,
       "version_minor": 0
      },
      "text/plain": [
       "FloatProgress(value=0.0, bar_style='info', description='Progress:', layout=Layout(height='25px', width='50%'),…"
      ]
     },
     "metadata": {},
     "output_type": "display_data"
    },
    {
     "name": "stdout",
     "output_type": "stream",
     "text": [
      "    threshold       fpr  recall  precision\n",
      "0    0.108336  0.190689     1.0   0.022936\n",
      "1    0.108295  0.191585     1.0   0.022831\n",
      "2    0.108146  0.192480     1.0   0.022727\n",
      "3    0.107967  0.193375     1.0   0.022624\n",
      "4    0.107808  0.194270     1.0   0.022523\n",
      "5    0.107686  0.195166     1.0   0.022422\n",
      "6    0.107134  0.196061     1.0   0.022321\n",
      "7    0.106942  0.196956     1.0   0.022222\n",
      "8    0.106934  0.197851     1.0   0.022124\n",
      "9    0.106820  0.198747     1.0   0.022026\n",
      "10   0.106635  0.199642     1.0   0.021930\n",
      "11   0.106540  0.200537     1.0   0.021834\n",
      "12   0.106403  0.201432     1.0   0.021739\n",
      "13   0.106250  0.202328     1.0   0.021645\n",
      "14   0.105894  0.203223     1.0   0.021552\n",
      "15   0.105678  0.204118     1.0   0.021459\n",
      "16   0.105496  0.205013     1.0   0.021368\n",
      "17   0.105435  0.205909     1.0   0.021277\n",
      "18   0.105047  0.206804     1.0   0.021186\n",
      "19   0.104819  0.207699     1.0   0.021097\n",
      "20   0.104636  0.208594     1.0   0.021008\n",
      "21   0.104633  0.209490     1.0   0.020921"
     ]
    }
   ],
   "source": [
    "from handyspark import BinaryClassificationMetrics\n",
    "\n",
    "bcm = BinaryClassificationMetrics(predict_test, scoreCol='probability', labelCol='DECEASED_index')\n",
    "\n",
    "bcm.getMetricsByThreshold().filter('fpr between 0.19 and 0.21').toPandas()"
   ]
  },
  {
   "cell_type": "markdown",
   "metadata": {},
   "source": [
    "# Confusion Matrix"
   ]
  },
  {
   "cell_type": "code",
   "execution_count": 40,
   "metadata": {},
   "outputs": [
    {
     "data": {
      "application/vnd.jupyter.widget-view+json": {
       "model_id": "35f2bcabd3c24b39a6018caf230b2845",
       "version_major": 2,
       "version_minor": 0
      },
      "text/plain": [
       "VBox()"
      ]
     },
     "metadata": {},
     "output_type": "display_data"
    },
    {
     "data": {
      "application/vnd.jupyter.widget-view+json": {
       "model_id": "",
       "version_major": 2,
       "version_minor": 0
      },
      "text/plain": [
       "FloatProgress(value=0.0, bar_style='info', description='Progress:', layout=Layout(height='25px', width='50%'),…"
      ]
     },
     "metadata": {},
     "output_type": "display_data"
    },
    {
     "name": "stdout",
     "output_type": "stream",
     "text": [
      "         Predicted     \n",
      "                 0    1\n",
      "Actual 0    1116.0  1.0\n",
      "       1       0.0  5.0"
     ]
    }
   ],
   "source": [
    "bcm.print_confusion_matrix(.5)"
   ]
  },
  {
   "cell_type": "code",
   "execution_count": 41,
   "metadata": {},
   "outputs": [
    {
     "data": {
      "application/vnd.jupyter.widget-view+json": {
       "model_id": "3910f6f4f4ec4fcebe27190206fbc11a",
       "version_major": 2,
       "version_minor": 0
      },
      "text/plain": [
       "VBox()"
      ]
     },
     "metadata": {},
     "output_type": "display_data"
    },
    {
     "data": {
      "application/vnd.jupyter.widget-view+json": {
       "model_id": "",
       "version_major": 2,
       "version_minor": 0
      },
      "text/plain": [
       "FloatProgress(value=0.0, bar_style='info', description='Progress:', layout=Layout(height='25px', width='50%'),…"
      ]
     },
     "metadata": {},
     "output_type": "display_data"
    }
   ],
   "source": [
    "# from pyspark.ml.classification import LogisticRegression\n",
    "# import matplotlib.pyplot as plt\n",
    "# import numpy as np\n",
    "\n",
    "# beta = np.sort(model.coefficients)\n",
    "\n",
    "# plt.plot(beta)\n",
    "# plt.ylabel('Beta Coefficients')\n",
    "# plt.show()"
   ]
  },
  {
   "cell_type": "code",
   "execution_count": 42,
   "metadata": {},
   "outputs": [
    {
     "data": {
      "application/vnd.jupyter.widget-view+json": {
       "model_id": "54e9289cb2134b33a897c5b88b89c637",
       "version_major": 2,
       "version_minor": 0
      },
      "text/plain": [
       "VBox()"
      ]
     },
     "metadata": {},
     "output_type": "display_data"
    },
    {
     "data": {
      "application/vnd.jupyter.widget-view+json": {
       "model_id": "",
       "version_major": 2,
       "version_minor": 0
      },
      "text/plain": [
       "FloatProgress(value=0.0, bar_style='info', description='Progress:', layout=Layout(height='25px', width='50%'),…"
      ]
     },
     "metadata": {},
     "output_type": "display_data"
    }
   ],
   "source": [
    "# trainingSummary = model.summary\n",
    "# roc = trainingSummary.roc.toPandas()\n",
    "# plt.plot(roc['FPR'],roc['TPR'])\n",
    "# plt.ylabel('False Positive Rate')\n",
    "# plt.xlabel('True Positive Rate')\n",
    "# plt.title('ROC Curve')\n",
    "# plt.show()\n",
    "# print('Training set areaUnderROC: ' + str(trainingSummary.areaUnderROC))"
   ]
  },
  {
   "cell_type": "code",
   "execution_count": null,
   "metadata": {},
   "outputs": [],
   "source": []
  },
  {
   "cell_type": "code",
   "execution_count": null,
   "metadata": {},
   "outputs": [],
   "source": []
  }
 ],
 "metadata": {
  "kernelspec": {
   "display_name": "PySpark",
   "language": "",
   "name": "pysparkkernel"
  },
  "language_info": {
   "codemirror_mode": {
    "name": "python",
    "version": 2
   },
   "mimetype": "text/x-python",
   "name": "pyspark",
   "pygments_lexer": "python2"
  }
 },
 "nbformat": 4,
 "nbformat_minor": 4
}
