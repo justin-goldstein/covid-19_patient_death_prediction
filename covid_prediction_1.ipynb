{
 "cells": [
  {
   "cell_type": "code",
   "execution_count": 1,
   "metadata": {},
   "outputs": [
    {
     "data": {
      "application/vnd.jupyter.widget-view+json": {
       "model_id": "dfe2c35ddb954a188e151cf6e3993dde",
       "version_major": 2,
       "version_minor": 0
      },
      "text/plain": [
       "VBox()"
      ]
     },
     "metadata": {},
     "output_type": "display_data"
    },
    {
     "name": "stdout",
     "output_type": "stream",
     "text": [
      "Starting Spark application\n"
     ]
    },
    {
     "data": {
      "text/html": [
       "<table>\n",
       "<tr><th>ID</th><th>YARN Application ID</th><th>Kind</th><th>State</th><th>Spark UI</th><th>Driver log</th><th>Current session?</th></tr><tr><td>0</td><td>application_1597842492404_0001</td><td>pyspark</td><td>idle</td><td><a target=\"_blank\" href=\"http://ip-172-31-67-101.ec2.internal:20888/proxy/application_1597842492404_0001/\">Link</a></td><td><a target=\"_blank\" href=\"http://ip-172-31-67-101.ec2.internal:8042/node/containerlogs/container_1597842492404_0001_01_000001/livy\">Link</a></td><td>✔</td></tr></table>"
      ],
      "text/plain": [
       "<IPython.core.display.HTML object>"
      ]
     },
     "metadata": {},
     "output_type": "display_data"
    },
    {
     "data": {
      "application/vnd.jupyter.widget-view+json": {
       "model_id": "",
       "version_major": 2,
       "version_minor": 0
      },
      "text/plain": [
       "FloatProgress(value=0.0, bar_style='info', description='Progress:', layout=Layout(height='25px', width='50%'),…"
      ]
     },
     "metadata": {},
     "output_type": "display_data"
    },
    {
     "name": "stdout",
     "output_type": "stream",
     "text": [
      "SparkSession available as 'spark'.\n"
     ]
    },
    {
     "data": {
      "application/vnd.jupyter.widget-view+json": {
       "model_id": "",
       "version_major": 2,
       "version_minor": 0
      },
      "text/plain": [
       "FloatProgress(value=0.0, bar_style='info', description='Progress:', layout=Layout(height='25px', width='50%'),…"
      ]
     },
     "metadata": {},
     "output_type": "display_data"
    }
   ],
   "source": [
    "path = \"s3://ms-syntheamass-1m-mldata/syntheamassCSV/covid/10k_synthea_covid19_csv/\"\n",
    "observations_file = path + \"observations.csv\"\n",
    "conditions_file = path +  \"conditions.csv\"\n",
    "care_plans_file = path + \"careplans.csv\"\n",
    "patients_file = path + \"patients.csv\"\n",
    "encounters_file = path + \"encounters.csv\"\n",
    "# devices_file = path + \"devices.csv\"\n",
    "# supplies_file = path + \"supplies.csv\"\n",
    "# procedures_file = path + \"procedures.csv\"\n",
    "# medications_file = path + \"medications.csv\"\n",
    "\n",
    "observations = spark.read.format(\"csv\").option(\"inferSchema\", True) \\\n",
    ".option(\"header\", True).load(observations_file)\n",
    "\n",
    "conditions = spark.read.format(\"csv\").option(\"inferSchema\", True) \\\n",
    ".option(\"header\", True).load(conditions_file)\n",
    "\n",
    "care_plans = spark.read.format(\"csv\").option(\"inferSchema\", True) \\\n",
    ".option(\"header\", True).load(care_plans_file)\n",
    "\n",
    "patients = spark.read.format(\"csv\").option(\"inferSchema\", True) \\\n",
    ".option(\"header\", True).load(patients_file)\n",
    "\n",
    "encounters = spark.read.format(\"csv\").option(\"inferSchema\", True) \\\n",
    ".option(\"header\", True).load(encounters_file)\n",
    "\n",
    "# devices = spark.read.format(\"csv\").option(\"inferSchema\", True) \\\n",
    "# .option(\"header\", True).load(devices_file)\n",
    "\n",
    "# supplies = spark.read.format(\"csv\").option(\"inferSchema\", True) \\\n",
    "# .option(\"header\", True).load(supplies_file)\n",
    "\n",
    "# procedures = spark.read.format(\"csv\").option(\"inferSchema\", True) \\\n",
    "# .option(\"header\", True).load(procedures_file)\n",
    "\n",
    "# medications = spark.read.format(\"csv\").option(\"inferSchema\", True) \\\n",
    "# .option(\"header\", True).load(medications_file)\n",
    "\n"
   ]
  },
  {
   "cell_type": "code",
   "execution_count": 2,
   "metadata": {},
   "outputs": [
    {
     "data": {
      "application/vnd.jupyter.widget-view+json": {
       "model_id": "038ae1c66c024e96a3927fb068d04ff7",
       "version_major": 2,
       "version_minor": 0
      },
      "text/plain": [
       "VBox()"
      ]
     },
     "metadata": {},
     "output_type": "display_data"
    },
    {
     "data": {
      "application/vnd.jupyter.widget-view+json": {
       "model_id": "",
       "version_major": 2,
       "version_minor": 0
      },
      "text/plain": [
       "FloatProgress(value=0.0, bar_style='info', description='Progress:', layout=Layout(height='25px', width='50%'),…"
      ]
     },
     "metadata": {},
     "output_type": "display_data"
    },
    {
     "name": "stdout",
     "output_type": "stream",
     "text": [
      "8820"
     ]
    }
   ],
   "source": [
    "# Format a dataframe of patients who have covid-19\n",
    "\n",
    "conditions.createOrReplaceTempView(\"conditions\")\n",
    "patients.createOrReplaceTempView(\"patients\")\n",
    "\n",
    "covid_ids = spark.sql(\"\"\"\n",
    "select PATIENT from conditions \n",
    "where CODE = 840539006\"\"\")\n",
    "\n",
    "covid_ids.createOrReplaceTempView(\"ids\")\n",
    "\n",
    "covid_patients = spark.sql(\"\"\"\n",
    "select p.* from patients p join ids i\n",
    "on p.Id = i.PATIENT\"\"\")\n",
    "\n",
    "covid_patients.count()\n"
   ]
  },
  {
   "cell_type": "code",
   "execution_count": 3,
   "metadata": {},
   "outputs": [
    {
     "data": {
      "application/vnd.jupyter.widget-view+json": {
       "model_id": "b6d12ad1c2674996a264223996fa0ae2",
       "version_major": 2,
       "version_minor": 0
      },
      "text/plain": [
       "VBox()"
      ]
     },
     "metadata": {},
     "output_type": "display_data"
    },
    {
     "data": {
      "application/vnd.jupyter.widget-view+json": {
       "model_id": "",
       "version_major": 2,
       "version_minor": 0
      },
      "text/plain": [
       "FloatProgress(value=0.0, bar_style='info', description='Progress:', layout=Layout(height='25px', width='50%'),…"
      ]
     },
     "metadata": {},
     "output_type": "display_data"
    },
    {
     "name": "stdout",
     "output_type": "stream",
     "text": [
      "8820"
     ]
    }
   ],
   "source": [
    "# create a deceased column\n",
    "\n",
    "from pyspark.sql import functions \n",
    "covid_patients.createOrReplaceTempView(\"covid_patients\")\n",
    "\n",
    "covid_patients = covid_patients.withColumn(\"DECEASED\", \n",
    "                                           functions.when(covid_patients.DEATHDATE.isNotNull(), 1)\n",
    "                                          .otherwise(0))\n",
    "\n",
    "# covid_patients.select(\"DEATHDATE\", \"DECEASED\").where(covid_patients.DEATHDATE.isNotNull()).show()\n",
    "covid_patients.count()"
   ]
  },
  {
   "cell_type": "code",
   "execution_count": 11,
   "metadata": {},
   "outputs": [
    {
     "data": {
      "application/vnd.jupyter.widget-view+json": {
       "model_id": "63c1b0dc04e540f4b1d6ac22ffb81257",
       "version_major": 2,
       "version_minor": 0
      },
      "text/plain": [
       "VBox()"
      ]
     },
     "metadata": {},
     "output_type": "display_data"
    },
    {
     "data": {
      "application/vnd.jupyter.widget-view+json": {
       "model_id": "",
       "version_major": 2,
       "version_minor": 0
      },
      "text/plain": [
       "FloatProgress(value=0.0, bar_style='info', description='Progress:', layout=Layout(height='25px', width='50%'),…"
      ]
     },
     "metadata": {},
     "output_type": "display_data"
    }
   ],
   "source": [
    "data = covid_patients"
   ]
  },
  {
   "cell_type": "code",
   "execution_count": 6,
   "metadata": {},
   "outputs": [
    {
     "data": {
      "application/vnd.jupyter.widget-view+json": {
       "model_id": "",
       "version_major": 2,
       "version_minor": 0
      },
      "text/plain": [
       "VBox()"
      ]
     },
     "metadata": {},
     "output_type": "display_data"
    },
    {
     "data": {
      "application/vnd.jupyter.widget-view+json": {
       "model_id": "",
       "version_major": 2,
       "version_minor": 0
      },
      "text/plain": [
       "FloatProgress(value=0.0, bar_style='info', description='Progress:', layout=Layout(height='25px', width='50%'),…"
      ]
     },
     "metadata": {},
     "output_type": "display_data"
    },
    {
     "name": "stdout",
     "output_type": "stream",
     "text": [
      "1831"
     ]
    }
   ],
   "source": [
    "# observations.createOrReplaceTempView(\"observations\")\n",
    "# aliases = [\"Height\", \"Weight\", \"BMI\", \"Cholesterol\", \"Sodium\", \"Glucose\"]\n",
    "# columns = [\"Body Height\", \"Body Weight\", \"Body Mass Index\", \"Total Cholesterol\", \"Sodium\", \"Glucose\"]\n",
    "\n",
    "# queries = []\n",
    "# for column, alias in zip(columns, aliases):\n",
    "#     queries.append(f\"\"\"\n",
    "#     select PATIENT, last(VALUE) as {alias} \n",
    "#     from observations\n",
    "#     where DESCRIPTION = \"{column}\" \n",
    "#     group by PATIENT\n",
    "#     \"\"\")\n",
    "\n",
    "\n",
    "# for indx, query in enumerate(queries):\n",
    "#     data.createOrReplaceTempView(\"data\")\n",
    "    \n",
    "#     temp_table = spark.sql(query)\n",
    "#     temp_table.createOrReplaceTempView(\"temp_table\")\n",
    "    \n",
    "\n",
    "#     data = spark.sql(f\"\"\"\n",
    "#     select d.*, t.{aliases[indx]}\n",
    "#     from data d \n",
    "#     join temp_table t\n",
    "#     on d.Id = t.PATIENT\"\"\")\n",
    "    \n",
    "# # data.show(1, truncate = True)\n",
    "\n",
    "# data.count()"
   ]
  },
  {
   "cell_type": "code",
   "execution_count": 8,
   "metadata": {},
   "outputs": [
    {
     "data": {
      "application/vnd.jupyter.widget-view+json": {
       "model_id": "3f033a9171a544d7915c64767f8ed424",
       "version_major": 2,
       "version_minor": 0
      },
      "text/plain": [
       "VBox()"
      ]
     },
     "metadata": {},
     "output_type": "display_data"
    },
    {
     "data": {
      "application/vnd.jupyter.widget-view+json": {
       "model_id": "",
       "version_major": 2,
       "version_minor": 0
      },
      "text/plain": [
       "FloatProgress(value=0.0, bar_style='info', description='Progress:', layout=Layout(height='25px', width='50%'),…"
      ]
     },
     "metadata": {},
     "output_type": "display_data"
    }
   ],
   "source": [
    "spark.conf.set(\"spark.sql.crossJoin.enabled\", \"true\")\n"
   ]
  },
  {
   "cell_type": "code",
   "execution_count": 12,
   "metadata": {},
   "outputs": [
    {
     "data": {
      "application/vnd.jupyter.widget-view+json": {
       "model_id": "b1e06e001ce547bf8b052b17b51d9a98",
       "version_major": 2,
       "version_minor": 0
      },
      "text/plain": [
       "VBox()"
      ]
     },
     "metadata": {},
     "output_type": "display_data"
    },
    {
     "data": {
      "application/vnd.jupyter.widget-view+json": {
       "model_id": "",
       "version_major": 2,
       "version_minor": 0
      },
      "text/plain": [
       "FloatProgress(value=0.0, bar_style='info', description='Progress:', layout=Layout(height='25px', width='50%'),…"
      ]
     },
     "metadata": {},
     "output_type": "display_data"
    },
    {
     "name": "stdout",
     "output_type": "stream",
     "text": [
      "8820"
     ]
    }
   ],
   "source": [
    "# selecting relevant observations for each patient\n",
    "\n",
    "observations.createOrReplaceTempView(\"observations\")\n",
    "aliases = [\"BMI\", \"Cholesterol\"]\n",
    "columns = [\"Body Mass Index\", \"Total Cholesterol\"]\n",
    "\n",
    "queries = []\n",
    "for column, alias in zip(columns, aliases):\n",
    "    queries.append(f\"\"\"\n",
    "    select PATIENT, last(VALUE) as {alias} \n",
    "    from observations\n",
    "    where DESCRIPTION = \"{column}\" \n",
    "    group by PATIENT\n",
    "    \"\"\")\n",
    "\n",
    "\n",
    "for indx, query in enumerate(queries):\n",
    "    data.createOrReplaceTempView(\"data\")\n",
    "    \n",
    "    temp_table = spark.sql(query)\n",
    "    temp_table.createOrReplaceTempView(\"temp_table\")\n",
    "    \n",
    "\n",
    "    data = spark.sql(f\"\"\"\n",
    "    select d.*, t.{aliases[indx]}\n",
    "    from data d \n",
    "    left outer join temp_table t\n",
    "    on d.Id = t.PATIENT\"\"\")\n",
    "    \n",
    "# data.show(1, truncate = True)\n",
    "\n",
    "data.count()"
   ]
  },
  {
   "cell_type": "code",
   "execution_count": 27,
   "metadata": {},
   "outputs": [
    {
     "data": {
      "application/vnd.jupyter.widget-view+json": {
       "model_id": "c566378ddb6749b8997aaa147972aab3",
       "version_major": 2,
       "version_minor": 0
      },
      "text/plain": [
       "VBox()"
      ]
     },
     "metadata": {},
     "output_type": "display_data"
    },
    {
     "data": {
      "application/vnd.jupyter.widget-view+json": {
       "model_id": "",
       "version_major": 2,
       "version_minor": 0
      },
      "text/plain": [
       "FloatProgress(value=0.0, bar_style='info', description='Progress:', layout=Layout(height='25px', width='50%'),…"
      ]
     },
     "metadata": {},
     "output_type": "display_data"
    }
   ],
   "source": [
    "data = data.select(\"Id\", \"BIRTHDATE\", \"DEATHDATE\", \"MARITAL\", \"RACE\", \"ETHNICITY\", \"GENDER\", \\\n",
    "                  \"HEALTHCARE_EXPENSES\", \"HEALTHCARE_COVERAGE\", \"DECEASED\", \"BMI\", \"Cholesterol\")\n",
    "\n",
    "# data.select(\"HEALTHCARE_EXPENSES\", \"HEALTHCARE_COVERAGE\").show()"
   ]
  },
  {
   "cell_type": "code",
   "execution_count": 28,
   "metadata": {},
   "outputs": [
    {
     "data": {
      "application/vnd.jupyter.widget-view+json": {
       "model_id": "5017c4a0b85349ffa10a68b38295a9dd",
       "version_major": 2,
       "version_minor": 0
      },
      "text/plain": [
       "VBox()"
      ]
     },
     "metadata": {},
     "output_type": "display_data"
    },
    {
     "data": {
      "application/vnd.jupyter.widget-view+json": {
       "model_id": "",
       "version_major": 2,
       "version_minor": 0
      },
      "text/plain": [
       "FloatProgress(value=0.0, bar_style='info', description='Progress:', layout=Layout(height='25px', width='50%'),…"
      ]
     },
     "metadata": {},
     "output_type": "display_data"
    }
   ],
   "source": [
    "# add average lab observations from the last day in the lab for each patient\n",
    "\n",
    "observations.createOrReplaceTempView(\"observations\")\n",
    "aliases = [\"D_dimer\", \"Serum_Ferritin\", \"High_Sensitivity_Cardiac_Troponin_I\", \\\n",
    "           \"IL_6\", \"Lymphocytes\", \"Lactate_dehydrogenase\"]\n",
    "\n",
    "columns = [\"48065-7\", \"2276-4\", \"89579-7\", \\\n",
    "           \"26881-3\", \"731-0\", \"14804-9\"]\n",
    "\n",
    "queries = []\n",
    "for column, alias in zip(columns, aliases):\n",
    "    queries.append(f\"\"\"\n",
    "    select PATIENT, avg(VALUE) as {alias} \n",
    "    from observations\n",
    "    where CODE = \"{column}\" \n",
    "    group by PATIENT\n",
    "    \"\"\")\n",
    "\n",
    "\n",
    "for indx, query in enumerate(queries):\n",
    "    data.createOrReplaceTempView(\"data\")\n",
    "    \n",
    "    temp_table = spark.sql(query)\n",
    "    temp_table.createOrReplaceTempView(\"temp_table\")\n",
    "    \n",
    "\n",
    "    data = spark.sql(f\"\"\"\n",
    "    select d.*, t.{aliases[indx]}\n",
    "    from data d \n",
    "    left join temp_table t\n",
    "    on d.Id = t.PATIENT\"\"\")\n",
    "    \n",
    "# data.select(aliases).show(5, truncate = True)\n",
    "# data.count()"
   ]
  },
  {
   "cell_type": "code",
   "execution_count": 23,
   "metadata": {},
   "outputs": [
    {
     "data": {
      "application/vnd.jupyter.widget-view+json": {
       "model_id": "b129b7f6e1764e03bc16b0b99998f127",
       "version_major": 2,
       "version_minor": 0
      },
      "text/plain": [
       "VBox()"
      ]
     },
     "metadata": {},
     "output_type": "display_data"
    },
    {
     "data": {
      "application/vnd.jupyter.widget-view+json": {
       "model_id": "",
       "version_major": 2,
       "version_minor": 0
      },
      "text/plain": [
       "FloatProgress(value=0.0, bar_style='info', description='Progress:', layout=Layout(height='25px', width='50%'),…"
      ]
     },
     "metadata": {},
     "output_type": "display_data"
    },
    {
     "name": "stdout",
     "output_type": "stream",
     "text": [
      "+--------+\n",
      "|count(1)|\n",
      "+--------+\n",
      "|    6953|\n",
      "+--------+\n",
      "\n",
      "+--------+\n",
      "|count(1)|\n",
      "+--------+\n",
      "|    6953|\n",
      "+--------+\n",
      "\n",
      "+--------+\n",
      "|count(1)|\n",
      "+--------+\n",
      "|    6953|\n",
      "+--------+\n",
      "\n",
      "+--------+\n",
      "|count(1)|\n",
      "+--------+\n",
      "|    8802|\n",
      "+--------+\n",
      "\n",
      "+--------+\n",
      "|count(1)|\n",
      "+--------+\n",
      "|    6953|\n",
      "+--------+\n",
      "\n",
      "+--------+\n",
      "|count(1)|\n",
      "+--------+\n",
      "|    6953|\n",
      "+--------+"
     ]
    }
   ],
   "source": [
    "data.createOrReplaceTempView(\"data\")\n",
    "\n",
    "for alias in aliases:\n",
    "    spark.sql(f\"\"\"\n",
    "    select count(*) from data\n",
    "    where {alias} is null\"\"\").show()"
   ]
  },
  {
   "cell_type": "code",
   "execution_count": 24,
   "metadata": {},
   "outputs": [
    {
     "data": {
      "application/vnd.jupyter.widget-view+json": {
       "model_id": "7d83eab6c1d545459c822598db490ab3",
       "version_major": 2,
       "version_minor": 0
      },
      "text/plain": [
       "VBox()"
      ]
     },
     "metadata": {},
     "output_type": "display_data"
    },
    {
     "data": {
      "application/vnd.jupyter.widget-view+json": {
       "model_id": "",
       "version_major": 2,
       "version_minor": 0
      },
      "text/plain": [
       "FloatProgress(value=0.0, bar_style='info', description='Progress:', layout=Layout(height='25px', width='50%'),…"
      ]
     },
     "metadata": {},
     "output_type": "display_data"
    }
   ],
   "source": [
    "# Add icu_admit column\n",
    "data.createOrReplaceTempView(\"data\")\n",
    "encounters.createOrReplaceTempView(\"encounters\")\n",
    "\n",
    "# from pyspark.sql import functions\n",
    "\n",
    "# data.withColumn(\"icu_admit\", functions.when((data.Id == encounters.PATIENT & encounters.CODE == 305351004), 1.0)\n",
    "#                .otherwise(0.0))\n",
    "\n",
    "icu_encounters = spark.sql(\"\"\"\n",
    "select  PATIENT, DESCRIPTION\n",
    "from encounters\n",
    "where CODE = 305351004\"\"\")\n",
    "\n",
    "\n",
    "# data.select(\"icu_admit\").show()"
   ]
  },
  {
   "cell_type": "code",
   "execution_count": 8,
   "metadata": {},
   "outputs": [
    {
     "data": {
      "application/vnd.jupyter.widget-view+json": {
       "model_id": "c8d92afb181f4ea588c3f6340bff5991",
       "version_major": 2,
       "version_minor": 0
      },
      "text/plain": [
       "VBox()"
      ]
     },
     "metadata": {},
     "output_type": "display_data"
    },
    {
     "data": {
      "application/vnd.jupyter.widget-view+json": {
       "model_id": "",
       "version_major": 2,
       "version_minor": 0
      },
      "text/plain": [
       "FloatProgress(value=0.0, bar_style='info', description='Progress:', layout=Layout(height='25px', width='50%'),…"
      ]
     },
     "metadata": {},
     "output_type": "display_data"
    },
    {
     "name": "stdout",
     "output_type": "stream",
     "text": [
      "+------------------------------------+--------------------------------------------+\n",
      "|PATIENT                             |DESCRIPTION                                 |\n",
      "+------------------------------------+--------------------------------------------+\n",
      "|c70992c9-ff13-467b-9032-1901506edeef|Admission to intensive care unit (procedure)|\n",
      "+------------------------------------+--------------------------------------------+\n",
      "only showing top 1 row"
     ]
    }
   ],
   "source": [
    "icu_encounters.show(1, truncate = False)"
   ]
  },
  {
   "cell_type": "code",
   "execution_count": 29,
   "metadata": {},
   "outputs": [
    {
     "data": {
      "application/vnd.jupyter.widget-view+json": {
       "model_id": "6c8d6dcceb394274b5ccc8a0f9110a1a",
       "version_major": 2,
       "version_minor": 0
      },
      "text/plain": [
       "VBox()"
      ]
     },
     "metadata": {},
     "output_type": "display_data"
    },
    {
     "data": {
      "application/vnd.jupyter.widget-view+json": {
       "model_id": "",
       "version_major": 2,
       "version_minor": 0
      },
      "text/plain": [
       "FloatProgress(value=0.0, bar_style='info', description='Progress:', layout=Layout(height='25px', width='50%'),…"
      ]
     },
     "metadata": {},
     "output_type": "display_data"
    },
    {
     "name": "stdout",
     "output_type": "stream",
     "text": [
      "+--------+\n",
      "|count(1)|\n",
      "+--------+\n",
      "|    8820|\n",
      "+--------+"
     ]
    }
   ],
   "source": [
    "icu_encounters.createOrReplaceTempView(\"icu_encounters\")\n",
    "data.createOrReplaceTempView(\"data\")\n",
    "\n",
    "data = spark.sql(\"\"\"\n",
    "select d.*, i.DESCRIPTION as icu_admitted from \n",
    "data d left outer join icu_encounters i\n",
    "on d.Id = i.PATIENT\n",
    "\"\"\")\n",
    "\n",
    "from pyspark.sql.functions import translate\n",
    "\n",
    "data = data.withColumn('icu_admitted', translate('icu_admitted', \n",
    "                                                        'Admission to intensive care unit (procedure)', '1'))\n",
    "\n",
    "data = data.na.fill(value='0', subset='icu_admitted')\n",
    "\n",
    "data.createOrReplaceTempView(\"data\")\n",
    "\n",
    "spark.sql(\"\"\"\n",
    "select count(*) from data where \n",
    "icu_admitted is not null\"\"\").show()\n",
    "# data.select(\"icu_admitted\").show()"
   ]
  },
  {
   "cell_type": "code",
   "execution_count": 32,
   "metadata": {},
   "outputs": [
    {
     "data": {
      "application/vnd.jupyter.widget-view+json": {
       "model_id": "4818d6ac2e2140e2a4433295364f3c74",
       "version_major": 2,
       "version_minor": 0
      },
      "text/plain": [
       "VBox()"
      ]
     },
     "metadata": {},
     "output_type": "display_data"
    },
    {
     "data": {
      "application/vnd.jupyter.widget-view+json": {
       "model_id": "",
       "version_major": 2,
       "version_minor": 0
      },
      "text/plain": [
       "FloatProgress(value=0.0, bar_style='info', description='Progress:', layout=Layout(height='25px', width='50%'),…"
      ]
     },
     "metadata": {},
     "output_type": "display_data"
    },
    {
     "name": "stdout",
     "output_type": "stream",
     "text": [
      "['Id', 'BIRTHDATE', 'DEATHDATE', 'MARITAL', 'RACE', 'ETHNICITY', 'GENDER', 'HEALTHCARE_EXPENSES', 'HEALTHCARE_COVERAGE', 'DECEASED', 'BMI', 'Cholesterol', 'D_dimer', 'Serum_Ferritin', 'High_Sensitivity_Cardiac_Troponin_I', 'IL_6', 'Lymphocytes', 'Lactate_dehydrogenase', 'icu_admitted']"
     ]
    }
   ],
   "source": [
    "data.columns"
   ]
  },
  {
   "cell_type": "code",
   "execution_count": 39,
   "metadata": {},
   "outputs": [
    {
     "data": {
      "application/vnd.jupyter.widget-view+json": {
       "model_id": "f58d0bbd70c945a2b264ccc2b3e4c72f",
       "version_major": 2,
       "version_minor": 0
      },
      "text/plain": [
       "VBox()"
      ]
     },
     "metadata": {},
     "output_type": "display_data"
    },
    {
     "data": {
      "application/vnd.jupyter.widget-view+json": {
       "model_id": "",
       "version_major": 2,
       "version_minor": 0
      },
      "text/plain": [
       "FloatProgress(value=0.0, bar_style='info', description='Progress:', layout=Layout(height='25px', width='50%'),…"
      ]
     },
     "metadata": {},
     "output_type": "display_data"
    }
   ],
   "source": [
    "# selecting relevent columns\n",
    "\n",
    "# covid_data = data.select(\"Id\", \"BIRTHDATE\", \"MARITAL\", \"RACE\", \"ETHNICITY\", \"GENDER\", \"CITY\", 'STATE', 'COUNTY', \\\n",
    "#                         'HEALTHCARE_EXPENSES', 'HEALTHCARE_COVERAGE', 'DECEASED', 'Height', 'Weight', 'BMI', 'Cholesterol', \\\n",
    "#                          'Sodium', 'Glucose', 'D_dimer', 'Serum_Ferritin', 'High_Sensitivity_Cardiac_Troponin_I', 'IL_6', 'Lymphocytes', 'Lactate_dehydrogenase', 'icu_admitted')\n",
    "covid_data = data"
   ]
  },
  {
   "cell_type": "markdown",
   "metadata": {},
   "source": [
    "# Indexing categorical features"
   ]
  },
  {
   "cell_type": "code",
   "execution_count": 40,
   "metadata": {},
   "outputs": [
    {
     "data": {
      "application/vnd.jupyter.widget-view+json": {
       "model_id": "894287bfaf7b4bacb55ed768d6554087",
       "version_major": 2,
       "version_minor": 0
      },
      "text/plain": [
       "VBox()"
      ]
     },
     "metadata": {},
     "output_type": "display_data"
    },
    {
     "data": {
      "application/vnd.jupyter.widget-view+json": {
       "model_id": "",
       "version_major": 2,
       "version_minor": 0
      },
      "text/plain": [
       "FloatProgress(value=0.0, bar_style='info', description='Progress:', layout=Layout(height='25px', width='50%'),…"
      ]
     },
     "metadata": {},
     "output_type": "display_data"
    }
   ],
   "source": [
    "from pyspark.ml.feature import StringIndexer\n",
    "\n",
    "input_cols = [\"MARITAL\", \"RACE\", \"ETHNICITY\", \"GENDER\",'DECEASED', 'icu_admitted']\n",
    "\n",
    "\n",
    "from pyspark.ml import Pipeline\n",
    "\n",
    "indexers = [StringIndexer(inputCol=column, outputCol=column+\"_index\").fit(covid_data) \\\n",
    "            for column in input_cols]\n",
    "\n",
    "pipeline = Pipeline(stages=indexers)\n",
    "indexed = pipeline.fit(covid_data).transform(covid_data)\n"
   ]
  },
  {
   "cell_type": "code",
   "execution_count": 42,
   "metadata": {},
   "outputs": [
    {
     "data": {
      "application/vnd.jupyter.widget-view+json": {
       "model_id": "ae9d0fa42980471d90d3db80a2b442d3",
       "version_major": 2,
       "version_minor": 0
      },
      "text/plain": [
       "VBox()"
      ]
     },
     "metadata": {},
     "output_type": "display_data"
    },
    {
     "data": {
      "application/vnd.jupyter.widget-view+json": {
       "model_id": "",
       "version_major": 2,
       "version_minor": 0
      },
      "text/plain": [
       "FloatProgress(value=0.0, bar_style='info', description='Progress:', layout=Layout(height='25px', width='50%'),…"
      ]
     },
     "metadata": {},
     "output_type": "display_data"
    },
    {
     "name": "stdout",
     "output_type": "stream",
     "text": [
      "['Id', 'BIRTHDATE', 'BMI', 'Cholesterol', 'D_dimer', 'Serum_Ferritin', 'High_Sensitivity_Cardiac_Troponin_I', 'IL_6', 'Lymphocytes', 'Lactate_dehydrogenase', 'HEALTHCARE_EXPENSES', 'HEALTHCARE_COVERAGE', 'MARITAL_index', 'RACE_index', 'ETHNICITY_index', 'GENDER_index', 'DECEASED_index', 'icu_admitted_index']"
     ]
    }
   ],
   "source": [
    "\n",
    "    \n",
    "indexed = indexed.select(*['Id', 'BIRTHDATE','BMI', 'Cholesterol', \\\n",
    "                          'D_dimer', 'Serum_Ferritin', \\\n",
    "                          'High_Sensitivity_Cardiac_Troponin_I', 'IL_6', \\\n",
    "                           'Lymphocytes', 'Lactate_dehydrogenase', 'HEALTHCARE_EXPENSES', 'HEALTHCARE_COVERAGE'], \\\n",
    "                          *[column + \"_index\" for column in input_cols])\n",
    "\n",
    "indexed.columns"
   ]
  },
  {
   "cell_type": "code",
   "execution_count": null,
   "metadata": {},
   "outputs": [],
   "source": [
    "# indexed_n = indexed.select(['Id', 'BIRTHDATE', 'Height', 'Weight', 'BMI', \\\n",
    "#                             'Cholesterol', 'Sodium', 'Glucose', 'D_dimer', 'Serum_Ferritin', \\\n",
    "#                             'High_Sensitivity_Cardiac_Troponin_I', \\\n",
    "#                             'IL_6', 'Lymphocytes', 'Lactate_dehydrogenase', 'MARITAL_index', 'RACE_index', \\\n",
    "#                             'ETHNICITY_index', 'GENDER_index', 'CITY_index', 'STATE_index', \\\n",
    "#                             'COUNTY_index', 'HEALTHCARE_EXPENSES_index', 'HEALTHCARE_COVERAGE_index', \\\n",
    "#                             'DECEASED_index', 'icu_admitted_index'])"
   ]
  },
  {
   "cell_type": "code",
   "execution_count": 43,
   "metadata": {},
   "outputs": [
    {
     "data": {
      "application/vnd.jupyter.widget-view+json": {
       "model_id": "81eabb44ba7147f1a1d2eaa9ec8d5135",
       "version_major": 2,
       "version_minor": 0
      },
      "text/plain": [
       "VBox()"
      ]
     },
     "metadata": {},
     "output_type": "display_data"
    },
    {
     "data": {
      "application/vnd.jupyter.widget-view+json": {
       "model_id": "",
       "version_major": 2,
       "version_minor": 0
      },
      "text/plain": [
       "FloatProgress(value=0.0, bar_style='info', description='Progress:', layout=Layout(height='25px', width='50%'),…"
      ]
     },
     "metadata": {},
     "output_type": "display_data"
    }
   ],
   "source": [
    "from datetime import datetime\n",
    "from pyspark.sql.functions import udf\n",
    "from pyspark.sql.types import IntegerType\n",
    "\n",
    "today = datetime.today()\n",
    "\n",
    "convert_to_age = udf(lambda birth_date: today.year - birth_date.year, IntegerType())\n",
    "\n",
    "indexed = indexed.withColumn(\"AGE\", convert_to_age(indexed.BIRTHDATE))\n",
    "\n",
    "indexed = indexed.drop(\"BIRTHDATE\")\n",
    "\n",
    "# indexed.select(\"AGE\").show(10)"
   ]
  },
  {
   "cell_type": "markdown",
   "metadata": {},
   "source": [
    "# Convert cells to Floats"
   ]
  },
  {
   "cell_type": "code",
   "execution_count": 47,
   "metadata": {},
   "outputs": [
    {
     "data": {
      "application/vnd.jupyter.widget-view+json": {
       "model_id": "a8f7ed393ee84e1e8d7a2aab2f3fb051",
       "version_major": 2,
       "version_minor": 0
      },
      "text/plain": [
       "VBox()"
      ]
     },
     "metadata": {},
     "output_type": "display_data"
    },
    {
     "data": {
      "application/vnd.jupyter.widget-view+json": {
       "model_id": "",
       "version_major": 2,
       "version_minor": 0
      },
      "text/plain": [
       "FloatProgress(value=0.0, bar_style='info', description='Progress:', layout=Layout(height='25px', width='50%'),…"
      ]
     },
     "metadata": {},
     "output_type": "display_data"
    }
   ],
   "source": [
    "cols_to_convert = ['BMI', 'Cholesterol', \\\n",
    "                          'D_dimer', 'Serum_Ferritin', \\\n",
    "                          'High_Sensitivity_Cardiac_Troponin_I', 'IL_6', \\\n",
    "                            'Lymphocytes', 'Lactate_dehydrogenase', 'AGE']\n",
    "\n",
    "from pyspark.sql.types import FloatType\n",
    "\n",
    "for col in cols_to_convert:\n",
    "    indexed = indexed.withColumn(col, indexed[col].cast(FloatType()))\n"
   ]
  },
  {
   "cell_type": "markdown",
   "metadata": {},
   "source": [
    "# Impute Null Values"
   ]
  },
  {
   "cell_type": "code",
   "execution_count": 48,
   "metadata": {},
   "outputs": [
    {
     "data": {
      "application/vnd.jupyter.widget-view+json": {
       "model_id": "1ac479cb6cca4913be42ccfcfbb6ca28",
       "version_major": 2,
       "version_minor": 0
      },
      "text/plain": [
       "VBox()"
      ]
     },
     "metadata": {},
     "output_type": "display_data"
    },
    {
     "data": {
      "application/vnd.jupyter.widget-view+json": {
       "model_id": "",
       "version_major": 2,
       "version_minor": 0
      },
      "text/plain": [
       "FloatProgress(value=0.0, bar_style='info', description='Progress:', layout=Layout(height='25px', width='50%'),…"
      ]
     },
     "metadata": {},
     "output_type": "display_data"
    }
   ],
   "source": [
    "\n",
    "from pyspark.ml.feature import Imputer\n",
    "imputer = Imputer(inputCols=cols_to_convert, outputCols=cols_to_convert)\n",
    "indexed = imputer.fit(indexed).transform(indexed)\n"
   ]
  },
  {
   "cell_type": "code",
   "execution_count": 61,
   "metadata": {},
   "outputs": [
    {
     "data": {
      "application/vnd.jupyter.widget-view+json": {
       "model_id": "f74c28bc281b4100a8a783a42c2a8e47",
       "version_major": 2,
       "version_minor": 0
      },
      "text/plain": [
       "VBox()"
      ]
     },
     "metadata": {},
     "output_type": "display_data"
    },
    {
     "data": {
      "application/vnd.jupyter.widget-view+json": {
       "model_id": "",
       "version_major": 2,
       "version_minor": 0
      },
      "text/plain": [
       "FloatProgress(value=0.0, bar_style='info', description='Progress:', layout=Layout(height='25px', width='50%'),…"
      ]
     },
     "metadata": {},
     "output_type": "display_data"
    },
    {
     "name": "stdout",
     "output_type": "stream",
     "text": [
      "['Id', 'BMI', 'Cholesterol', 'D_dimer', 'Serum_Ferritin', 'High_Sensitivity_Cardiac_Troponin_I', 'IL_6', 'Lymphocytes', 'Lactate_dehydrogenase', 'HEALTHCARE_EXPENSES', 'HEALTHCARE_COVERAGE', 'RACE_index', 'ETHNICITY_index', 'GENDER_index', 'DECEASED_index', 'icu_admitted_index', 'AGE']"
     ]
    }
   ],
   "source": [
    "cols = indexed.columns\n",
    "cols.remove(\"MARITAL_index\")\n",
    "indexed_n = indexed.select(cols)\n",
    "indexed_n.columns"
   ]
  },
  {
   "cell_type": "code",
   "execution_count": 62,
   "metadata": {},
   "outputs": [
    {
     "data": {
      "application/vnd.jupyter.widget-view+json": {
       "model_id": "1fb8e4a47ada40d4a427d74412b04bd9",
       "version_major": 2,
       "version_minor": 0
      },
      "text/plain": [
       "VBox()"
      ]
     },
     "metadata": {},
     "output_type": "display_data"
    },
    {
     "data": {
      "application/vnd.jupyter.widget-view+json": {
       "model_id": "",
       "version_major": 2,
       "version_minor": 0
      },
      "text/plain": [
       "FloatProgress(value=0.0, bar_style='info', description='Progress:', layout=Layout(height='25px', width='50%'),…"
      ]
     },
     "metadata": {},
     "output_type": "display_data"
    },
    {
     "name": "stdout",
     "output_type": "stream",
     "text": [
      "+--------------------+---------+-----------+---------+--------------+-----------------------------------+----+-----------+---------------------+-------------------+-------------------+----------+---------------+------------+--------------+------------------+----+\n",
      "|                  Id|      BMI|Cholesterol|  D_dimer|Serum_Ferritin|High_Sensitivity_Cardiac_Troponin_I|IL_6|Lymphocytes|Lactate_dehydrogenase|HEALTHCARE_EXPENSES|HEALTHCARE_COVERAGE|RACE_index|ETHNICITY_index|GENDER_index|DECEASED_index|icu_admitted_index| AGE|\n",
      "+--------------------+---------+-----------+---------+--------------+-----------------------------------+----+-----------+---------------------+-------------------+-------------------+----------+---------------+------------+--------------+------------------+----+\n",
      "|00ebc091-9748-42c...|25.989397|  183.77635|      0.0|         498.0|                                3.0| 6.0|        0.0|                244.0|             6236.4|                0.0|       1.0|            0.0|         1.0|           0.0|               0.0|45.0|\n",
      "|01277eee-8cd9-4f7...|     27.0|      207.0|1.2153187|      626.5785|                          6.6004286| 6.0| 0.58114624|             261.5581|         1210105.37|            4700.48|       1.0|            0.0|         1.0|           0.0|               0.0|45.0|\n",
      "|0143c325-d2e1-4c0...|     30.0|  183.77635|      3.0|        1361.0|                               16.0| 6.0|        0.0|                331.0|         1380591.99|           16575.76|       0.0|            0.0|         1.0|           1.0|               1.0|64.0|\n",
      "|01936601-631d-4f3...|     17.0|  183.77635|1.2153187|      626.5785|                          6.6004286| 6.0| 0.58114624|             261.5581| 23186.739999999998|              645.8|       0.0|            0.0|         0.0|           0.0|               0.0| 3.0|\n",
      "|023ebd7f-12e5-486...|     28.0|  183.77635|1.2153187|      626.5785|                          6.6004286| 6.0| 0.58114624|             261.5581|          913260.55|  4708.679999999999|       0.0|            0.0|         1.0|           0.0|               0.0|44.0|\n",
      "|03a0d001-96be-4da...|     23.0|  183.77635|1.2153187|      626.5785|                          6.6004286| 6.0| 0.58114624|             261.5581|          547164.47| 3606.3999999999996|       0.0|            0.0|         1.0|           0.0|               0.0|22.0|\n",
      "|03fa0ea8-f4d1-49e...|     23.0|  183.77635|1.2153187|      626.5785|                          6.6004286| 6.0| 0.58114624|             261.5581|          469354.56|            3627.16|       0.0|            0.0|         0.0|           0.0|               0.0|22.0|\n",
      "|04bebb25-d12a-445...|     27.0|  183.77635|1.2153187|      626.5785|                          6.6004286| 6.0| 0.58114624|             261.5581|         1400950.62| 14436.669999999998|       0.0|            1.0|         0.0|           0.0|               0.0|64.0|\n",
      "|06fe1c85-e24d-412...|     25.0|  183.77635|1.2153187|      626.5785|                          6.6004286| 6.0| 0.58114624|             261.5581|          445489.15|  6965.999999999999|       0.0|            0.0|         0.0|           0.0|               0.0|19.0|\n",
      "|06fea317-8464-4ef...|     17.0|  183.77635|1.2153187|      626.5785|                          6.6004286| 6.0| 0.58114624|             261.5581|          136150.98|            3411.14|       0.0|            0.0|         0.0|           0.0|               0.0| 6.0|\n",
      "|08223dc4-d9c0-481...|     30.0|      189.0|1.2153187|      626.5785|                          6.6004286| 6.0| 0.58114624|             261.5581|          1027987.1|            4205.48|       0.0|            1.0|         1.0|           0.0|               0.0|41.0|\n",
      "|08653edb-39d8-464...|     30.0|      173.0|1.2153187|      626.5785|                          6.6004286| 6.0| 0.58114624|             261.5581|         1140029.77| 16417.559999999998|       1.0|            1.0|         0.0|           0.0|               0.0|58.0|\n",
      "|08c42d2d-7f70-467...|     28.0|  183.77635|      0.0|         429.0|                                3.0| 6.0|        1.0|                224.0| 1683179.4200000002| 11882.029999999999|       2.0|            1.0|         1.0|           0.0|               0.0|69.0|\n",
      "|08ddcbc1-2fe6-4b5...|25.989397|  183.77635|1.2153187|      626.5785|                          6.6004286| 6.0| 0.58114624|             261.5581|         1111764.59| 14525.659999999998|       1.0|            1.0|         0.0|           0.0|               0.0|49.0|\n",
      "|09595671-900f-4ba...|     27.0|      206.0|      0.0|         399.0|                                2.0| 6.0|        1.0|                231.0| 1669924.1800000002|            9821.64|       0.0|            1.0|         1.0|           0.0|               0.0|66.0|\n",
      "|09b1aaf2-46c0-4e7...|     28.0|      165.0|      0.0|         416.0|                                2.0| 6.0|        1.0|                226.0|         1395529.22| 13874.359999999997|       0.0|            0.0|         0.0|           0.0|               0.0|65.0|\n",
      "|09eaef03-651c-417...|     31.0|      174.0|1.2153187|      626.5785|                          6.6004286| 6.0| 0.58114624|             261.5581|         1284164.25|            5021.96|       1.0|            0.0|         1.0|           0.0|               0.0|63.0|\n",
      "|0a3dd43a-7743-48b...|     18.0|  183.77635|1.2153187|      626.5785|                          6.6004286| 6.0| 0.58114624|             261.5581|          431172.06|           16545.79|       0.0|            0.0|         0.0|           0.0|               0.0|20.0|\n",
      "|0ad328b9-9d39-433...|     30.0|      161.0|1.2153187|      626.5785|                          6.6004286| 6.0| 0.58114624|             261.5581|          866904.65| 3380.4399999999996|       0.0|            0.0|         1.0|           0.0|               0.0|42.0|\n",
      "|0bb4d615-991a-49e...|     27.0|  183.77635|1.2153187|      626.5785|                          6.6004286| 6.0| 0.58114624|             261.5581|         1275489.17|            3277.24|       0.0|            0.0|         1.0|           0.0|               0.0|48.0|\n",
      "+--------------------+---------+-----------+---------+--------------+-----------------------------------+----+-----------+---------------------+-------------------+-------------------+----------+---------------+------------+--------------+------------------+----+\n",
      "only showing top 20 rows"
     ]
    }
   ],
   "source": [
    "indexed_n.show()"
   ]
  },
  {
   "cell_type": "code",
   "execution_count": 64,
   "metadata": {},
   "outputs": [
    {
     "data": {
      "application/vnd.jupyter.widget-view+json": {
       "model_id": "c33d5eccde984186bae4f76d0255046c",
       "version_major": 2,
       "version_minor": 0
      },
      "text/plain": [
       "VBox()"
      ]
     },
     "metadata": {},
     "output_type": "display_data"
    },
    {
     "data": {
      "application/vnd.jupyter.widget-view+json": {
       "model_id": "",
       "version_major": 2,
       "version_minor": 0
      },
      "text/plain": [
       "FloatProgress(value=0.0, bar_style='info', description='Progress:', layout=Layout(height='25px', width='50%'),…"
      ]
     },
     "metadata": {},
     "output_type": "display_data"
    }
   ],
   "source": [
    "# Save the indexed dataframe here for future use:\n",
    "\n",
    "# indexed_n.coalesce(1).write.csv(\"s3://ms-syntheamass-1m-mldata/syntheamassCSV/covid/10k_synthea_covid19_csv/\", \n",
    "#                              header = 'true', mode=\"append\")\n",
    "\n",
    "# you can resume from here using the indexed dataframe from the s3 bucket"
   ]
  },
  {
   "cell_type": "code",
   "execution_count": 21,
   "metadata": {},
   "outputs": [
    {
     "data": {
      "application/vnd.jupyter.widget-view+json": {
       "model_id": "1d91c0e1a6c248b1a4dd6f5feac56c89",
       "version_major": 2,
       "version_minor": 0
      },
      "text/plain": [
       "VBox()"
      ]
     },
     "metadata": {},
     "output_type": "display_data"
    },
    {
     "data": {
      "application/vnd.jupyter.widget-view+json": {
       "model_id": "",
       "version_major": 2,
       "version_minor": 0
      },
      "text/plain": [
       "FloatProgress(value=0.0, bar_style='info', description='Progress:', layout=Layout(height='25px', width='50%'),…"
      ]
     },
     "metadata": {},
     "output_type": "display_data"
    }
   ],
   "source": [
    "# assemble a features column\n",
    "\n",
    "cols = indexed_n.columns\n",
    "cols.remove(\"DECEASED_index\")\n",
    "cols.remove(\"Id\")\n",
    "\n",
    "from pyspark.ml.feature import VectorAssembler\n",
    "assembler = VectorAssembler(inputCols=cols, outputCol='features')\n",
    "\n",
    "indexed_n = assembler.transform(indexed_n)\n",
    "# indexed.select(\"features\").show(truncate=False)"
   ]
  },
  {
   "cell_type": "markdown",
   "metadata": {},
   "source": [
    "# Scale the features column"
   ]
  },
  {
   "cell_type": "code",
   "execution_count": 22,
   "metadata": {},
   "outputs": [
    {
     "data": {
      "application/vnd.jupyter.widget-view+json": {
       "model_id": "859eecbbea1d4cd3a6d5fecb884a3e6c",
       "version_major": 2,
       "version_minor": 0
      },
      "text/plain": [
       "VBox()"
      ]
     },
     "metadata": {},
     "output_type": "display_data"
    },
    {
     "data": {
      "application/vnd.jupyter.widget-view+json": {
       "model_id": "",
       "version_major": 2,
       "version_minor": 0
      },
      "text/plain": [
       "FloatProgress(value=0.0, bar_style='info', description='Progress:', layout=Layout(height='25px', width='50%'),…"
      ]
     },
     "metadata": {},
     "output_type": "display_data"
    }
   ],
   "source": [
    "from pyspark.ml.feature import StandardScaler\n",
    "standardscaler = StandardScaler().setInputCol(\"features\").setOutputCol(\"scaled_features\")\n",
    "\n",
    "scaled = standardscaler.fit(indexed).transform(indexed)\n",
    "# scaled.select(\"scaled_features\").show(5, truncate=False)"
   ]
  },
  {
   "cell_type": "markdown",
   "metadata": {},
   "source": [
    "# Train, Test, split"
   ]
  },
  {
   "cell_type": "code",
   "execution_count": 25,
   "metadata": {},
   "outputs": [
    {
     "data": {
      "application/vnd.jupyter.widget-view+json": {
       "model_id": "9ddc102fc99c4cc1babb48fd0b6ac99c",
       "version_major": 2,
       "version_minor": 0
      },
      "text/plain": [
       "VBox()"
      ]
     },
     "metadata": {},
     "output_type": "display_data"
    },
    {
     "data": {
      "application/vnd.jupyter.widget-view+json": {
       "model_id": "",
       "version_major": 2,
       "version_minor": 0
      },
      "text/plain": [
       "FloatProgress(value=0.0, bar_style='info', description='Progress:', layout=Layout(height='25px', width='50%'),…"
      ]
     },
     "metadata": {},
     "output_type": "display_data"
    }
   ],
   "source": [
    "train, test = scaled.randomSplit([0.8, 0.2], seed = 10)"
   ]
  },
  {
   "cell_type": "code",
   "execution_count": 22,
   "metadata": {},
   "outputs": [
    {
     "data": {
      "application/vnd.jupyter.widget-view+json": {
       "model_id": "b68e1060abbd4e3eb806ba4ae504b6eb",
       "version_major": 2,
       "version_minor": 0
      },
      "text/plain": [
       "VBox()"
      ]
     },
     "metadata": {},
     "output_type": "display_data"
    },
    {
     "data": {
      "application/vnd.jupyter.widget-view+json": {
       "model_id": "",
       "version_major": 2,
       "version_minor": 0
      },
      "text/plain": [
       "FloatProgress(value=0.0, bar_style='info', description='Progress:', layout=Layout(height='25px', width='50%'),…"
      ]
     },
     "metadata": {},
     "output_type": "display_data"
    },
    {
     "name": "stdout",
     "output_type": "stream",
     "text": [
      "percent deceased for total covid patients: 16.666666666666664"
     ]
    }
   ],
   "source": [
    "percent_pos_total = float(scaled.select(\"DECEASED_index\").where(\"DECEASED_index == 1\").count()) \\\n",
    "/ scaled.count() * 100\n",
    "\n",
    "print(\"percent deceased for total covid patients:\", percent_pos_total)"
   ]
  },
  {
   "cell_type": "code",
   "execution_count": 26,
   "metadata": {},
   "outputs": [
    {
     "data": {
      "application/vnd.jupyter.widget-view+json": {
       "model_id": "ee9cd942718547c3aceac15ae895cb49",
       "version_major": 2,
       "version_minor": 0
      },
      "text/plain": [
       "VBox()"
      ]
     },
     "metadata": {},
     "output_type": "display_data"
    },
    {
     "data": {
      "application/vnd.jupyter.widget-view+json": {
       "model_id": "",
       "version_major": 2,
       "version_minor": 0
      },
      "text/plain": [
       "FloatProgress(value=0.0, bar_style='info', description='Progress:', layout=Layout(height='25px', width='50%'),…"
      ]
     },
     "metadata": {},
     "output_type": "display_data"
    },
    {
     "name": "stdout",
     "output_type": "stream",
     "text": [
      "percent deceased for train: 25.0\n",
      "percent deceased for test: 0.0"
     ]
    }
   ],
   "source": [
    "percent_pos_train = float(train.select(\"DECEASED_index\").where(\"DECEASED_index == 1\").count()) \\\n",
    "/ train.count() * 100\n",
    "\n",
    "percent_pos_test = float(test.select(\"DECEASED_index\").where(\"DECEASED_index == 1\").count()) \\\n",
    "/ test.count() * 100\n",
    "\n",
    "print(\"percent deceased for train:\", percent_pos_train)\n",
    "\n",
    "print(\"percent deceased for test:\", percent_pos_test)"
   ]
  },
  {
   "cell_type": "markdown",
   "metadata": {},
   "source": [
    "# Imbalance handling\n"
   ]
  },
  {
   "cell_type": "code",
   "execution_count": 27,
   "metadata": {},
   "outputs": [
    {
     "data": {
      "application/vnd.jupyter.widget-view+json": {
       "model_id": "ad19283ae6f04615aeaf909836539e24",
       "version_major": 2,
       "version_minor": 0
      },
      "text/plain": [
       "VBox()"
      ]
     },
     "metadata": {},
     "output_type": "display_data"
    },
    {
     "data": {
      "application/vnd.jupyter.widget-view+json": {
       "model_id": "",
       "version_major": 2,
       "version_minor": 0
      },
      "text/plain": [
       "FloatProgress(value=0.0, bar_style='info', description='Progress:', layout=Layout(height='25px', width='50%'),…"
      ]
     },
     "metadata": {},
     "output_type": "display_data"
    }
   ],
   "source": [
    "num_negs = float(train.where(\"DECEASED_index == 0\").count())\n",
    "                 \n",
    "balancing_ratio = num_negs/train.count()\n",
    "\n",
    "# print(\"Balancing ratio:\", balancing_ratio)"
   ]
  },
  {
   "cell_type": "code",
   "execution_count": 28,
   "metadata": {},
   "outputs": [
    {
     "data": {
      "application/vnd.jupyter.widget-view+json": {
       "model_id": "1b52bd1f605d4d40a76ffb1fa8dfe5bd",
       "version_major": 2,
       "version_minor": 0
      },
      "text/plain": [
       "VBox()"
      ]
     },
     "metadata": {},
     "output_type": "display_data"
    },
    {
     "data": {
      "application/vnd.jupyter.widget-view+json": {
       "model_id": "",
       "version_major": 2,
       "version_minor": 0
      },
      "text/plain": [
       "FloatProgress(value=0.0, bar_style='info', description='Progress:', layout=Layout(height='25px', width='50%'),…"
      ]
     },
     "metadata": {},
     "output_type": "display_data"
    }
   ],
   "source": [
    "from pyspark.sql import functions\n",
    "\n",
    "train = train.withColumn(\"class_weights\", functions.when(train.DECEASED_index == 1, balancing_ratio)\n",
    "                        .otherwise(1 - balancing_ratio))\n",
    "# train.select(\"class_weights\").show(5)"
   ]
  },
  {
   "cell_type": "markdown",
   "metadata": {},
   "source": [
    "# Select Features"
   ]
  },
  {
   "cell_type": "code",
   "execution_count": 29,
   "metadata": {},
   "outputs": [
    {
     "data": {
      "application/vnd.jupyter.widget-view+json": {
       "model_id": "d633e70f41d849ac8c9b3f97c01f2a8f",
       "version_major": 2,
       "version_minor": 0
      },
      "text/plain": [
       "VBox()"
      ]
     },
     "metadata": {},
     "output_type": "display_data"
    },
    {
     "data": {
      "application/vnd.jupyter.widget-view+json": {
       "model_id": "",
       "version_major": 2,
       "version_minor": 0
      },
      "text/plain": [
       "FloatProgress(value=0.0, bar_style='info', description='Progress:', layout=Layout(height='25px', width='50%'),…"
      ]
     },
     "metadata": {},
     "output_type": "display_data"
    }
   ],
   "source": [
    "# Feature selection using chisquareSelector\n",
    "# selects significant features \n",
    "\n",
    "from pyspark.ml.feature import ChiSqSelector\n",
    "\n",
    "css = ChiSqSelector(featuresCol='scaled_features', outputCol = 'Aspect', \n",
    "                   labelCol='DECEASED_index', fpr=0.05)\n",
    "\n",
    "train = css.fit(train).transform(train)\n",
    "\n",
    "test = css.fit(test).transform(test)\n",
    "\n",
    "# test.select(\"Aspect\").show(5, truncate=False)"
   ]
  },
  {
   "cell_type": "markdown",
   "metadata": {},
   "source": [
    "# Building a classification Model using Logistic Regression"
   ]
  },
  {
   "cell_type": "code",
   "execution_count": 30,
   "metadata": {},
   "outputs": [
    {
     "data": {
      "application/vnd.jupyter.widget-view+json": {
       "model_id": "675eb53f3bb444a3ac66e6c96b093169",
       "version_major": 2,
       "version_minor": 0
      },
      "text/plain": [
       "VBox()"
      ]
     },
     "metadata": {},
     "output_type": "display_data"
    },
    {
     "data": {
      "application/vnd.jupyter.widget-view+json": {
       "model_id": "",
       "version_major": 2,
       "version_minor": 0
      },
      "text/plain": [
       "FloatProgress(value=0.0, bar_style='info', description='Progress:', layout=Layout(height='25px', width='50%'),…"
      ]
     },
     "metadata": {},
     "output_type": "display_data"
    }
   ],
   "source": [
    "from pyspark.ml.classification import LogisticRegression\n",
    "lr = LogisticRegression(labelCol=\"DECEASED_index\", \n",
    "                       featuresCol=\"Aspect\", weightCol = \"class_weights\", maxIter = 10)\n",
    "model = lr.fit(train)\n",
    "predict_train = model.transform(train)\n",
    "\n",
    "predict_test = model.transform(test)\n",
    "# predict_test.select(\"DECEASED_index\", \"prediction\").show(10)"
   ]
  },
  {
   "cell_type": "markdown",
   "metadata": {},
   "source": [
    "# Model Evaluation"
   ]
  },
  {
   "cell_type": "code",
   "execution_count": 32,
   "metadata": {},
   "outputs": [
    {
     "data": {
      "application/vnd.jupyter.widget-view+json": {
       "model_id": "b878af3414d84b3e95ead00e7ece0c7c",
       "version_major": 2,
       "version_minor": 0
      },
      "text/plain": [
       "VBox()"
      ]
     },
     "metadata": {},
     "output_type": "display_data"
    },
    {
     "data": {
      "application/vnd.jupyter.widget-view+json": {
       "model_id": "aa30fdfd20024708a8646ab07b14b5bb",
       "version_major": 2,
       "version_minor": 0
      },
      "text/plain": [
       "FloatProgress(value=0.0, bar_style='info', description='Progress:', layout=Layout(height='25px', width='50%'),…"
      ]
     },
     "metadata": {},
     "output_type": "display_data"
    },
    {
     "name": "stderr",
     "output_type": "stream",
     "text": [
      "An error was encountered:\n",
      "Invalid status code '400' from https://172.31.21.238:18888/sessions/0/statements/32 with error payload: {\"msg\":\"requirement failed: Session isn't active.\"}\n"
     ]
    }
   ],
   "source": [
    "from pyspark.ml.evaluation import BinaryClassificationEvaluator \n",
    "evaluator = BinaryClassificationEvaluator(rawPredictionCol=\"rawPrediction\", labelCol=\"DECEASED_index\")\n",
    "\n",
    "predict_test.select(\"DECEASED_index\", \"rawPrediction\", \"prediction\", \"probability\").show(5)\n",
    "\n",
    "print(\"The area under ROC for train set is:\", evaluator.evaluate(predict_train))\n",
    "print(\"The area under ROC for test set is:\", evaluator.evaluate(predict_test))"
   ]
  },
  {
   "cell_type": "code",
   "execution_count": 33,
   "metadata": {},
   "outputs": [
    {
     "data": {
      "application/vnd.jupyter.widget-view+json": {
       "model_id": "0ffffe30c9f64a0494601056f359b0ea",
       "version_major": 2,
       "version_minor": 0
      },
      "text/plain": [
       "VBox()"
      ]
     },
     "metadata": {},
     "output_type": "display_data"
    },
    {
     "name": "stderr",
     "output_type": "stream",
     "text": [
      "An error was encountered:\n",
      "Session 0 unexpectedly reached final status 'dead'. See logs:\n",
      "stdout: \n",
      "#\n",
      "# There is insufficient memory for the Java Runtime Environment to continue.\n",
      "# Native memory allocation (mmap) failed to map 101183488 bytes for committing reserved memory.\n",
      "# An error report file with more information is saved as:\n",
      "# /tmp/hs_err_pid27258.log\n",
      "\n",
      "stderr: \n",
      "20/08/18 19:23:44 INFO DAGScheduler: Submitting ShuffleMapStage 1283 (MapPartitionsRDD[4467] at rdd at BinaryClassificationEvaluator.scala:81), which has no missing parents\n",
      "20/08/18 19:23:44 INFO MemoryStore: Block broadcast_1154 stored as values in memory (estimated size 20.9 KB, free 837.2 MB)\n",
      "20/08/18 19:23:44 INFO MemoryStore: Block broadcast_1154_piece0 stored as bytes in memory (estimated size 10.4 KB, free 837.2 MB)\n",
      "20/08/18 19:23:44 INFO BlockManagerInfo: Added broadcast_1154_piece0 in memory on ip-172-31-21-238.ec2.internal:39767 (size: 10.4 KB, free: 1003.4 MB)\n",
      "20/08/18 19:23:44 INFO SparkContext: Created broadcast 1154 from broadcast at DAGScheduler.scala:1203\n",
      "20/08/18 19:23:44 INFO DAGScheduler: Submitting 4 missing tasks from ShuffleMapStage 1283 (MapPartitionsRDD[4467] at rdd at BinaryClassificationEvaluator.scala:81) (first 15 tasks are for partitions Vector(0, 1, 2, 3))\n",
      "20/08/18 19:23:44 INFO YarnScheduler: Adding task set 1283.0 with 4 tasks\n",
      "20/08/18 19:23:44 INFO DAGScheduler: Submitting ShuffleMapStage 1284 (MapPartitionsRDD[4507] at rdd at BinaryClassificationEvaluator.scala:81), which has no missing parents\n",
      "20/08/18 19:23:44 INFO MemoryStore: Block broadcast_1155 stored as values in memory (estimated size 20.9 KB, free 837.2 MB)\n",
      "20/08/18 19:23:44 INFO MemoryStore: Block broadcast_1155_piece0 stored as bytes in memory (estimated size 10.4 KB, free 837.2 MB)\n",
      "20/08/18 19:23:44 INFO BlockManagerInfo: Added broadcast_1155_piece0 in memory on ip-172-31-21-238.ec2.internal:39767 (size: 10.4 KB, free: 1003.4 MB)\n",
      "20/08/18 19:23:44 INFO SparkContext: Created broadcast 1155 from broadcast at DAGScheduler.scala:1203\n",
      "20/08/18 19:23:44 INFO DAGScheduler: Submitting 4 missing tasks from ShuffleMapStage 1284 (MapPartitionsRDD[4507] at rdd at BinaryClassificationEvaluator.scala:81) (first 15 tasks are for partitions Vector(0, 1, 2, 3))\n",
      "20/08/18 19:23:44 INFO YarnScheduler: Adding task set 1284.0 with 4 tasks\n",
      "20/08/18 19:23:44 INFO DAGScheduler: Submitting ShuffleMapStage 1285 (MapPartitionsRDD[4497] at rdd at BinaryClassificationEvaluator.scala:81), which has no missing parents\n",
      "20/08/18 19:23:44 INFO MemoryStore: Block broadcast_1156 stored as values in memory (estimated size 20.9 KB, free 837.2 MB)\n",
      "20/08/18 19:23:44 INFO MemoryStore: Block broadcast_1156_piece0 stored as bytes in memory (estimated size 10.4 KB, free 837.1 MB)\n",
      "20/08/18 19:23:44 INFO BlockManagerInfo: Added broadcast_1156_piece0 in memory on ip-172-31-21-238.ec2.internal:39767 (size: 10.4 KB, free: 1003.4 MB)\n",
      "20/08/18 19:23:44 INFO SparkContext: Created broadcast 1156 from broadcast at DAGScheduler.scala:1203\n",
      "20/08/18 19:23:44 INFO DAGScheduler: Submitting 4 missing tasks from ShuffleMapStage 1285 (MapPartitionsRDD[4497] at rdd at BinaryClassificationEvaluator.scala:81) (first 15 tasks are for partitions Vector(0, 1, 2, 3))\n",
      "20/08/18 19:23:44 INFO YarnScheduler: Adding task set 1285.0 with 4 tasks\n",
      "20/08/18 19:23:45 INFO ExecutorAllocationManager: Requesting 3 new executors because tasks are backlogged (new desired total will be 3)\n",
      "20/08/18 19:23:46 INFO ExecutorAllocationManager: Requesting 1 new executor because tasks are backlogged (new desired total will be 4)\n",
      "20/08/18 19:23:47 INFO TaskSetManager: Starting task 0.0 in stage 1273.0 (TID 11976, ip-172-31-21-238.ec2.internal, executor 13, partition 0, RACK_LOCAL, 8307 bytes)\n",
      "20/08/18 19:23:47 INFO TaskSetManager: Finished task 1.0 in stage 1272.0 (TID 11973) in 2806 ms on ip-172-31-21-238.ec2.internal (executor 13) (1/4)\n",
      "20/08/18 19:23:47 INFO BlockManagerInfo: Added broadcast_1144_piece0 in memory on ip-172-31-21-238.ec2.internal:37473 (size: 10.4 KB, free: 2.6 GB)\n",
      "20/08/18 19:23:47 INFO TaskSetManager: Starting task 1.0 in stage 1273.0 (TID 11977, ip-172-31-21-238.ec2.internal, executor 13, partition 1, RACK_LOCAL, 8307 bytes)\n",
      "20/08/18 19:23:47 INFO TaskSetManager: Finished task 3.0 in stage 1272.0 (TID 11975) in 2830 ms on ip-172-31-21-238.ec2.internal (executor 13) (2/4)\n",
      "20/08/18 19:23:47 INFO BlockManagerInfo: Added broadcast_1132_piece0 in memory on ip-172-31-21-238.ec2.internal:37473 (size: 28.4 KB, free: 2.6 GB)\n",
      "20/08/18 19:23:47 INFO ExecutorAllocationManager: Requesting 2 new executors because tasks are backlogged (new desired total will be 6)\n",
      "20/08/18 19:23:47 INFO TaskSetManager: Starting task 2.0 in stage 1273.0 (TID 11978, ip-172-31-21-238.ec2.internal, executor 14, partition 2, RACK_LOCAL, 8307 bytes)\n",
      "20/08/18 19:23:47 INFO TaskSetManager: Finished task 0.0 in stage 1272.0 (TID 11972) in 3267 ms on ip-172-31-21-238.ec2.internal (executor 14) (3/4)\n",
      "20/08/18 19:23:47 INFO BlockManagerInfo: Added broadcast_1144_piece0 in memory on ip-172-31-21-238.ec2.internal:36859 (size: 10.4 KB, free: 2.6 GB)\n",
      "20/08/18 19:23:47 INFO BlockManagerInfo: Added broadcast_1132_piece0 in memory on ip-172-31-21-238.ec2.internal:36859 (size: 28.4 KB, free: 2.6 GB)\n",
      "20/08/18 19:23:47 INFO TaskSetManager: Starting task 3.0 in stage 1273.0 (TID 11979, ip-172-31-21-238.ec2.internal, executor 14, partition 3, RACK_LOCAL, 8307 bytes)\n",
      "20/08/18 19:23:47 INFO TaskSetManager: Finished task 2.0 in stage 1272.0 (TID 11974) in 3390 ms on ip-172-31-21-238.ec2.internal (executor 14) (4/4)\n",
      "20/08/18 19:23:47 INFO YarnScheduler: Removed TaskSet 1272.0, whose tasks have all completed, from pool \n",
      "20/08/18 19:23:47 INFO DAGScheduler: ShuffleMapStage 1272 (rdd at BinaryClassificationEvaluator.scala:81) finished in 3.393 s\n",
      "20/08/18 19:23:47 INFO DAGScheduler: looking for newly runnable stages\n",
      "20/08/18 19:23:47 INFO DAGScheduler: running: Set(ShuffleMapStage 1279, ShuffleMapStage 1273, ShuffleMapStage 1280, ShuffleMapStage 1281, ShuffleMapStage 1282, ShuffleMapStage 1274, ShuffleMapStage 1283, ShuffleMapStage 1275, ShuffleMapStage 1276, ShuffleMapStage 1277, ShuffleMapStage 1284, ShuffleMapStage 1278, ShuffleMapStage 1285)\n",
      "20/08/18 19:23:47 INFO DAGScheduler: waiting: Set(ShuffleMapStage 1286, ResultStage 1287)\n",
      "20/08/18 19:23:47 INFO DAGScheduler: failed: Set()\n",
      "20/08/18 19:23:48 INFO ExecutorAllocationManager: Requesting 4 new executors because tasks are backlogged (new desired total will be 10)\n",
      "20/08/18 19:23:49 INFO ExecutorAllocationManager: Requesting 8 new executors because tasks are backlogged (new desired total will be 18)\n",
      "20/08/18 19:23:49 INFO TaskSetManager: Starting task 0.0 in stage 1274.0 (TID 11980, ip-172-31-21-238.ec2.internal, executor 13, partition 0, RACK_LOCAL, 8307 bytes)\n",
      "20/08/18 19:23:49 INFO TaskSetManager: Finished task 1.0 in stage 1273.0 (TID 11977) in 2547 ms on ip-172-31-21-238.ec2.internal (executor 13) (1/4)\n",
      "20/08/18 19:23:49 INFO BlockManagerInfo: Added broadcast_1145_piece0 in memory on ip-172-31-21-238.ec2.internal:37473 (size: 10.4 KB, free: 2.6 GB)\n",
      "20/08/18 19:23:49 INFO BlockManagerInfo: Added broadcast_1135_piece0 in memory on ip-172-31-21-238.ec2.internal:37473 (size: 28.4 KB, free: 2.6 GB)\n",
      "20/08/18 19:23:49 INFO TaskSetManager: Starting task 1.0 in stage 1274.0 (TID 11981, ip-172-31-21-238.ec2.internal, executor 13, partition 1, RACK_LOCAL, 8307 bytes)\n",
      "20/08/18 19:23:49 INFO TaskSetManager: Finished task 0.0 in stage 1273.0 (TID 11976) in 2617 ms on ip-172-31-21-238.ec2.internal (executor 13) (2/4)\n",
      "20/08/18 19:23:50 INFO ExecutorAllocationManager: Requesting 7 new executors because tasks are backlogged (new desired total will be 25)\n",
      "20/08/18 19:23:50 INFO TaskSetManager: Starting task 2.0 in stage 1274.0 (TID 11982, ip-172-31-21-238.ec2.internal, executor 14, partition 2, RACK_LOCAL, 8307 bytes)\n",
      "20/08/18 19:23:50 INFO TaskSetManager: Finished task 2.0 in stage 1273.0 (TID 11978) in 3174 ms on ip-172-31-21-238.ec2.internal (executor 14) (3/4)\n",
      "20/08/18 19:23:50 INFO BlockManagerInfo: Added broadcast_1145_piece0 in memory on ip-172-31-21-238.ec2.internal:36859 (size: 10.4 KB, free: 2.6 GB)\n",
      "20/08/18 19:23:50 INFO BlockManagerInfo: Added broadcast_1135_piece0 in memory on ip-172-31-21-238.ec2.internal:36859 (size: 28.4 KB, free: 2.6 GB)\n",
      "20/08/18 19:23:51 INFO ContextCleaner: Cleaned accumulator 30854\n",
      "20/08/18 19:23:51 INFO ContextCleaner: Cleaned accumulator 30569\n",
      "20/08/18 19:23:51 INFO ContextCleaner: Cleaned accumulator 30444\n",
      "20/08/18 19:23:51 INFO ContextCleaner: Cleaned accumulator 30526\n",
      "20/08/18 19:23:51 INFO ContextCleaner: Cleaned accumulator 30291\n",
      "20/08/18 19:23:51 INFO ContextCleaner: Cleaned accumulator 30285\n",
      "20/08/18 19:23:51 INFO ContextCleaner: Cleaned accumulator 30203\n",
      "20/08/18 19:23:51 INFO ContextCleaner: Cleaned accumulator 30298\n",
      "20/08/18 19:23:51 INFO ContextCleaner: Cleaned accumulator 30011\n",
      "20/08/18 19:23:51 INFO ContextCleaner: Cleaned accumulator 29572\n",
      "20/08/18 19:23:51 INFO ContextCleaner: Cleaned accumulator 30820\n",
      "20/08/18 19:23:51 INFO ContextCleaner: Cleaned accumulator 27208\n",
      "20/08/18 19:23:51 INFO ContextCleaner: Cleaned accumulator 31197\n",
      "20/08/18 19:23:51 INFO ContextCleaner: Cleaned accumulator 27144\n",
      "20/08/18 19:23:51 INFO ContextCleaner: Cleaned accumulator 29567\n",
      "20/08/18 19:23:51 INFO ContextCleaner: Cleaned accumulator 29885\n",
      "20/08/18 19:23:51 INFO ContextCleaner: Cleaned accumulator 29593\n",
      "20/08/18 19:23:51 INFO ContextCleaner: Cleaned accumulator 29859\n",
      "20/08/18 19:23:51 INFO ContextCleaner: Cleaned accumulator 29295\n",
      "20/08/18 19:23:51 INFO ContextCleaner: Cleaned accumulator 27116\n",
      "20/08/18 19:23:51 INFO ContextCleaner: Cleaned accumulator 27130\n",
      "20/08/18 19:23:51 INFO ContextCleaner: Cleaned accumulator 27219\n",
      "20/08/18 19:23:51 INFO ContextCleaner: Cleaned accumulator 27136\n",
      "20/08/18 19:23:51 INFO ContextCleaner: Cleaned accumulator 27125\n",
      "20/08/18 19:23:51 INFO ContextCleaner: Cleaned accumulator 27091\n",
      "20/08/18 19:23:51 INFO ContextCleaner: Cleaned accumulator 27122\n",
      "20/08/18 19:23:51 INFO ContextCleaner: Cleaned accumulator 27107\n",
      "20/08/18 19:23:51 INFO ContextCleaner: Cleaned accumulator 27165\n",
      "20/08/18 19:23:51 INFO TaskSetManager: Starting task 3.0 in stage 1274.0 (TID 11983, ip-172-31-21-238.ec2.internal, executor 14, partition 3, RACK_LOCAL, 8307 bytes)\n",
      "20/08/18 19:23:51 INFO ContextCleaner: Cleaned shuffle 409\n",
      "20/08/18 19:23:51 INFO ContextCleaner: Cleaned accumulator 27238\n",
      "20/08/18 19:23:51 INFO ContextCleaner: Cleaned accumulator 27191\n",
      "20/08/18 19:23:51 INFO ContextCleaner: Cleaned accumulator 27182\n",
      "20/08/18 19:23:51 INFO ContextCleaner: Cleaned accumulator 27173\n",
      "20/08/18 19:23:51 INFO ContextCleaner: Cleaned accumulator 27147\n",
      "20/08/18 19:23:51 INFO ContextCleaner: Cleaned accumulator 27080\n",
      "20/08/18 19:23:51 INFO ContextCleaner: Cleaned accumulator 27141\n",
      "20/08/18 19:23:51 INFO ContextCleaner: Cleaned accumulator 27239\n"
     ]
    }
   ],
   "source": [
    "sc.install_pypi_package(\"matplotlib\")"
   ]
  },
  {
   "cell_type": "code",
   "execution_count": 29,
   "metadata": {},
   "outputs": [
    {
     "data": {
      "application/vnd.jupyter.widget-view+json": {
       "model_id": "8bb90089e0ee4013a8629a503c1a3bca",
       "version_major": 2,
       "version_minor": 0
      },
      "text/plain": [
       "VBox()"
      ]
     },
     "metadata": {},
     "output_type": "display_data"
    },
    {
     "name": "stderr",
     "output_type": "stream",
     "text": [
      "An error was encountered:\n",
      "Invalid status code '404' from https://172.31.21.238:18888/sessions/3 with error payload: {\"msg\":\"Session '3' not found.\"}\n"
     ]
    }
   ],
   "source": [
    "import matplotlib.pyplot as plt\n",
    "import numpy as np\n",
    "\n",
    "beta = np.sort(model.coefficients)\n",
    "\n",
    "plt.plot(beta)\n",
    "plt.ylabel('Beta Coefficients')\n",
    "plt.show()\n",
    "\n"
   ]
  },
  {
   "cell_type": "code",
   "execution_count": null,
   "metadata": {},
   "outputs": [],
   "source": [
    "from pyspark.ml.classification import LogisticRegression\n",
    "\n",
    "trainingSummary = model.summary\n",
    "\n",
    "roc = trainingSummary.roc.toPandas()\n",
    "\n",
    "\n",
    "accuracy = trainingSummary.accuracy\n",
    "\n",
    "print(accuracy)\n"
   ]
  }
 ],
 "metadata": {
  "kernelspec": {
   "display_name": "PySpark",
   "language": "",
   "name": "pysparkkernel"
  },
  "language_info": {
   "codemirror_mode": {
    "name": "python",
    "version": 2
   },
   "mimetype": "text/x-python",
   "name": "pyspark",
   "pygments_lexer": "python2"
  }
 },
 "nbformat": 4,
 "nbformat_minor": 4
}
